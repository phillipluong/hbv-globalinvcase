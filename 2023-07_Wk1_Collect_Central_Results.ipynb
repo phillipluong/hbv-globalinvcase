{
 "cells": [
  {
   "cell_type": "code",
   "execution_count": 1,
   "id": "9e703329",
   "metadata": {
    "ExecuteTime": {
     "end_time": "2023-07-06T01:15:14.246319Z",
     "start_time": "2023-07-06T01:15:12.824017Z"
    }
   },
   "outputs": [],
   "source": [
    "import os\n",
    "os.chdir('applications/vimc_example')\n",
    "\n",
    "import sys\n",
    "sys.path.append('applications/vimc_example')\n",
    "\n",
    "import pandas as pd\n",
    "import numpy as np\n",
    "import atomica as at"
   ]
  },
  {
   "cell_type": "code",
   "execution_count": 2,
   "id": "6ffe862a",
   "metadata": {
    "ExecuteTime": {
     "end_time": "2023-07-06T01:17:31.319517Z",
     "start_time": "2023-07-06T01:17:31.000227Z"
    }
   },
   "outputs": [],
   "source": [
    "import vimc_functions as vimc\n",
    "import hbv_functions as hbv"
   ]
  },
  {
   "cell_type": "code",
   "execution_count": 8,
   "id": "66315b7c",
   "metadata": {
    "ExecuteTime": {
     "end_time": "2023-07-06T01:19:03.444354Z",
     "start_time": "2023-07-06T01:19:03.431342Z"
    }
   },
   "outputs": [],
   "source": [
    "fw_loc = 'C:/Users/Phil/Documents/GitHub/hbv-globalinvcase/frameworks/hbv_v15_csdev_b.xlsx'\n",
    "db = f\"C:/Users/Phil/Documents/GitHub/hbv-globalinvcase/applications/vimc_WPR_test/WPR_db.xlsx\"\n",
    "cl = f\"C:/Users/Phil/Documents/GitHub/hbv-globalinvcase/applications/vimc_WPR_test/WPR_test_calib.xlsx\""
   ]
  },
  {
   "cell_type": "code",
   "execution_count": 9,
   "id": "9a8f0aec",
   "metadata": {
    "ExecuteTime": {
     "end_time": "2023-07-06T01:19:16.070047Z",
     "start_time": "2023-07-06T01:19:03.920291Z"
    }
   },
   "outputs": [
    {
     "name": "stderr",
     "output_type": "stream",
     "text": [
      "Parameter \"m_dc\" is in rate units and a maximum value of \"1\" has been entered. Rates in the framework should generally not be limited to \"1\"\n",
      "Parameter \"m_hcc\" is in rate units and a maximum value of \"1\" has been entered. Rates in the framework should generally not be limited to \"1\"\n"
     ]
    },
    {
     "name": "stdout",
     "output_type": "stream",
     "text": [
      "Elapsed time for running \"default\": 6.09s\n"
     ]
    }
   ],
   "source": [
    "P, res = vimc.load_cen_project(fw= fw_loc, db=db, cl=cl)"
   ]
  },
  {
   "cell_type": "code",
   "execution_count": 11,
   "id": "6535dcb9",
   "metadata": {
    "ExecuteTime": {
     "end_time": "2023-07-06T01:28:06.188333Z",
     "start_time": "2023-07-06T01:28:06.183328Z"
    }
   },
   "outputs": [],
   "source": [
    "main = 'C:/Users/Phil/Documents/GitHub/hbv-globalinvcase/'"
   ]
  },
  {
   "cell_type": "code",
   "execution_count": 13,
   "id": "f6931ab2",
   "metadata": {
    "ExecuteTime": {
     "end_time": "2023-07-06T01:28:56.606112Z",
     "start_time": "2023-07-06T01:28:56.575083Z"
    }
   },
   "outputs": [],
   "source": [
    "loc = 'applications/vimc_example/Data/Templates/' # The location for the output templates may be different\n",
    "loc2 = 'applications/vimc_example/Data/Demographics/' # The location for the input data may be different (depending on where you store it)\n",
    "df1 = pd.read_csv(main+loc2+'202212rfp-1_dds-202208_int_pop_both.csv')"
   ]
  },
  {
   "cell_type": "code",
   "execution_count": 15,
   "id": "34b0429e",
   "metadata": {
    "ExecuteTime": {
     "end_time": "2023-07-06T01:30:47.996697Z",
     "start_time": "2023-07-06T01:30:47.967670Z"
    }
   },
   "outputs": [],
   "source": [
    "output_dict = {'cohort_size': 'alive', 'cases': 'tot_inc', 'dalys':'dalys'}\n",
    "cen_df = pd.read_csv(main+loc+'/central-burden-template.202212rfp-1.RFP_standard template_HepB.csv')"
   ]
  },
  {
   "cell_type": "code",
   "execution_count": 20,
   "id": "49dca7e2",
   "metadata": {
    "ExecuteTime": {
     "end_time": "2023-07-06T01:37:41.315864Z",
     "start_time": "2023-07-06T01:37:41.293843Z"
    }
   },
   "outputs": [
    {
     "data": {
      "text/plain": [
       "array([  0,   1,   2,   3,   4,   5,   6,   7,   8,   9,  10,  11,  12,\n",
       "        13,  14,  15,  16,  17,  18,  19,  20,  21,  22,  23,  24,  25,\n",
       "        26,  27,  28,  29,  30,  31,  32,  33,  34,  35,  36,  37,  38,\n",
       "        39,  40,  41,  42,  43,  44,  45,  46,  47,  48,  49,  50,  51,\n",
       "        52,  53,  54,  55,  56,  57,  58,  59,  60,  61,  62,  63,  64,\n",
       "        65,  66,  67,  68,  69,  70,  71,  72,  73,  74,  75,  76,  77,\n",
       "        78,  79,  80,  81,  82,  83,  84,  85,  86,  87,  88,  89,  90,\n",
       "        91,  92,  93,  94,  95,  96,  97,  98,  99, 100], dtype=int64)"
      ]
     },
     "execution_count": 20,
     "metadata": {},
     "output_type": "execute_result"
    }
   ],
   "source": [
    "df1.age_from.unique()"
   ]
  },
  {
   "cell_type": "code",
   "execution_count": 21,
   "id": "4dd513d8",
   "metadata": {
    "ExecuteTime": {
     "end_time": "2023-07-06T01:56:24.531167Z",
     "start_time": "2023-07-06T01:56:21.390326Z"
    }
   },
   "outputs": [],
   "source": [
    "df1 = df1[(df1.year >= 1990) & (df1.year <=2100)]\n",
    "age_groups = ['0-4', '5-9','10-14', '15-19', '20-24', '25-29', '30-34', '35-39', '40-44',\\\n",
    "              '45-49', '50-54', '55-59', '60-64', '65-69', '70-74', '75-79', '80-84', '85-89',\\\n",
    "              '90+']\n",
    "\n",
    "## Assort data by age group\n",
    "for idx,row in df1.iterrows():\n",
    "    if row.age_from < 5:\n",
    "        df1.loc[idx,'age_group'] = '0-4'\n",
    "    elif row.age_from < 10:\n",
    "        df1.loc[idx,'age_group'] = '5-9'\n",
    "    elif row.age_from < 15:\n",
    "        df1.loc[idx,'age_group'] = '10-14'\n",
    "    elif row.age_from < 20:\n",
    "        df1.loc[idx,'age_group'] = '15-19'\n",
    "    elif row.age_from < 25:\n",
    "        df1.loc[idx,'age_group'] = '20-24'\n",
    "    elif row.age_from < 30:\n",
    "        df1.loc[idx,'age_group'] = '25-29'\n",
    "    elif row.age_from < 35:\n",
    "        df1.loc[idx,'age_group'] = '30-34'\n",
    "    elif row.age_from < 40:\n",
    "        df1.loc[idx,'age_group'] = '35-39'\n",
    "    elif row.age_from < 45:\n",
    "        df1.loc[idx,'age_group'] = '40-44'\n",
    "    elif row.age_from < 50:\n",
    "        df1.loc[idx,'age_group'] = '45-49'\n",
    "    elif row.age_from < 55:\n",
    "        df1.loc[idx,'age_group'] = '50-54'\n",
    "    elif row.age_from < 60:\n",
    "        df1.loc[idx,'age_group'] = '55-59'\n",
    "    elif row.age_from < 65:\n",
    "        df1.loc[idx,'age_group'] = '60-64'\n",
    "    elif row.age_from < 70:\n",
    "        df1.loc[idx,'age_group'] = '65-69'\n",
    "    elif row.age_from < 75:\n",
    "        df1.loc[idx,'age_group'] = '70-74'\n",
    "    elif row.age_from < 80:\n",
    "        df1.loc[idx,'age_group'] = '75-79'\n",
    "    elif row.age_from < 85:\n",
    "        df1.loc[idx,'age_group'] = '80-84'\n",
    "    elif row.age_from < 90:\n",
    "        df1.loc[idx,'age_group'] = '85-89'\n",
    "    else:\n",
    "        df1.loc[idx,'age_group'] = '90+'"
   ]
  },
  {
   "cell_type": "code",
   "execution_count": 27,
   "id": "a097917c",
   "metadata": {
    "ExecuteTime": {
     "end_time": "2023-07-06T03:04:19.595052Z",
     "start_time": "2023-07-06T03:04:12.523199Z"
    }
   },
   "outputs": [
    {
     "name": "stdout",
     "output_type": "stream",
     "text": [
      "cohort_size\n"
     ]
    },
    {
     "ename": "KeyError",
     "evalue": "('90-94', 2000)",
     "output_type": "error",
     "traceback": [
      "\u001b[1;31m---------------------------------------------------------------------------\u001b[0m",
      "\u001b[1;31mKeyError\u001b[0m                                  Traceback (most recent call last)",
      "\u001b[1;32m~\\miniconda3\\envs\\torch\\lib\\site-packages\\pandas\\core\\indexes\\base.py\u001b[0m in \u001b[0;36mget_loc\u001b[1;34m(self, key, method, tolerance)\u001b[0m\n\u001b[0;32m   3360\u001b[0m             \u001b[1;32mtry\u001b[0m\u001b[1;33m:\u001b[0m\u001b[1;33m\u001b[0m\u001b[1;33m\u001b[0m\u001b[0m\n\u001b[1;32m-> 3361\u001b[1;33m                 \u001b[1;32mreturn\u001b[0m \u001b[0mself\u001b[0m\u001b[1;33m.\u001b[0m\u001b[0m_engine\u001b[0m\u001b[1;33m.\u001b[0m\u001b[0mget_loc\u001b[0m\u001b[1;33m(\u001b[0m\u001b[0mcasted_key\u001b[0m\u001b[1;33m)\u001b[0m\u001b[1;33m\u001b[0m\u001b[1;33m\u001b[0m\u001b[0m\n\u001b[0m\u001b[0;32m   3362\u001b[0m             \u001b[1;32mexcept\u001b[0m \u001b[0mKeyError\u001b[0m \u001b[1;32mas\u001b[0m \u001b[0merr\u001b[0m\u001b[1;33m:\u001b[0m\u001b[1;33m\u001b[0m\u001b[1;33m\u001b[0m\u001b[0m\n",
      "\u001b[1;32m~\\miniconda3\\envs\\torch\\lib\\site-packages\\pandas\\_libs\\index.pyx\u001b[0m in \u001b[0;36mpandas._libs.index.IndexEngine.get_loc\u001b[1;34m()\u001b[0m\n",
      "\u001b[1;32m~\\miniconda3\\envs\\torch\\lib\\site-packages\\pandas\\_libs\\index.pyx\u001b[0m in \u001b[0;36mpandas._libs.index.IndexEngine.get_loc\u001b[1;34m()\u001b[0m\n",
      "\u001b[1;32mpandas\\_libs\\hashtable_class_helper.pxi\u001b[0m in \u001b[0;36mpandas._libs.hashtable.PyObjectHashTable.get_item\u001b[1;34m()\u001b[0m\n",
      "\u001b[1;32mpandas\\_libs\\hashtable_class_helper.pxi\u001b[0m in \u001b[0;36mpandas._libs.hashtable.PyObjectHashTable.get_item\u001b[1;34m()\u001b[0m\n",
      "\u001b[1;31mKeyError\u001b[0m: '90-94'",
      "\nThe above exception was the direct cause of the following exception:\n",
      "\u001b[1;31mKeyError\u001b[0m                                  Traceback (most recent call last)",
      "\u001b[1;32m~\\miniconda3\\envs\\torch\\lib\\site-packages\\pandas\\_libs\\index.pyx\u001b[0m in \u001b[0;36mpandas._libs.index.BaseMultiIndexCodesEngine.get_loc\u001b[1;34m()\u001b[0m\n",
      "\u001b[1;32m~\\miniconda3\\envs\\torch\\lib\\site-packages\\pandas\\core\\indexes\\base.py\u001b[0m in \u001b[0;36mget_loc\u001b[1;34m(self, key, method, tolerance)\u001b[0m\n\u001b[0;32m   3362\u001b[0m             \u001b[1;32mexcept\u001b[0m \u001b[0mKeyError\u001b[0m \u001b[1;32mas\u001b[0m \u001b[0merr\u001b[0m\u001b[1;33m:\u001b[0m\u001b[1;33m\u001b[0m\u001b[1;33m\u001b[0m\u001b[0m\n\u001b[1;32m-> 3363\u001b[1;33m                 \u001b[1;32mraise\u001b[0m \u001b[0mKeyError\u001b[0m\u001b[1;33m(\u001b[0m\u001b[0mkey\u001b[0m\u001b[1;33m)\u001b[0m \u001b[1;32mfrom\u001b[0m \u001b[0merr\u001b[0m\u001b[1;33m\u001b[0m\u001b[1;33m\u001b[0m\u001b[0m\n\u001b[0m\u001b[0;32m   3364\u001b[0m \u001b[1;33m\u001b[0m\u001b[0m\n",
      "\u001b[1;31mKeyError\u001b[0m: '90-94'",
      "\nDuring handling of the above exception, another exception occurred:\n",
      "\u001b[1;31mKeyError\u001b[0m                                  Traceback (most recent call last)",
      "\u001b[1;32m~\\miniconda3\\envs\\torch\\lib\\site-packages\\pandas\\core\\indexes\\multi.py\u001b[0m in \u001b[0;36m_get_loc_level\u001b[1;34m(self, key, level, drop_level)\u001b[0m\n\u001b[0;32m   3079\u001b[0m                     \u001b[1;32mtry\u001b[0m\u001b[1;33m:\u001b[0m\u001b[1;33m\u001b[0m\u001b[1;33m\u001b[0m\u001b[0m\n\u001b[1;32m-> 3080\u001b[1;33m                         \u001b[1;32mreturn\u001b[0m \u001b[1;33m(\u001b[0m\u001b[0mself\u001b[0m\u001b[1;33m.\u001b[0m\u001b[0m_engine\u001b[0m\u001b[1;33m.\u001b[0m\u001b[0mget_loc\u001b[0m\u001b[1;33m(\u001b[0m\u001b[0mkey\u001b[0m\u001b[1;33m)\u001b[0m\u001b[1;33m,\u001b[0m \u001b[1;32mNone\u001b[0m\u001b[1;33m)\u001b[0m\u001b[1;33m\u001b[0m\u001b[1;33m\u001b[0m\u001b[0m\n\u001b[0m\u001b[0;32m   3081\u001b[0m                     \u001b[1;32mexcept\u001b[0m \u001b[0mKeyError\u001b[0m \u001b[1;32mas\u001b[0m \u001b[0me\u001b[0m\u001b[1;33m:\u001b[0m\u001b[1;33m\u001b[0m\u001b[1;33m\u001b[0m\u001b[0m\n",
      "\u001b[1;32m~\\miniconda3\\envs\\torch\\lib\\site-packages\\pandas\\_libs\\index.pyx\u001b[0m in \u001b[0;36mpandas._libs.index.BaseMultiIndexCodesEngine.get_loc\u001b[1;34m()\u001b[0m\n",
      "\u001b[1;31mKeyError\u001b[0m: ('90-94', 2000)",
      "\nThe above exception was the direct cause of the following exception:\n",
      "\u001b[1;31mKeyError\u001b[0m                                  Traceback (most recent call last)",
      "\u001b[1;32m~\\AppData\\Local\\Temp/ipykernel_47612/485103937.py\u001b[0m in \u001b[0;36m<module>\u001b[1;34m\u001b[0m\n\u001b[0;32m      6\u001b[0m         \u001b[1;32mfor\u001b[0m \u001b[0mage\u001b[0m \u001b[1;32min\u001b[0m \u001b[0mrange\u001b[0m\u001b[1;33m(\u001b[0m\u001b[0mage_r\u001b[0m\u001b[1;33m,\u001b[0m\u001b[0mage_r\u001b[0m\u001b[1;33m+\u001b[0m\u001b[1;36m5\u001b[0m\u001b[1;33m)\u001b[0m\u001b[1;33m:\u001b[0m\u001b[1;33m\u001b[0m\u001b[1;33m\u001b[0m\u001b[0m\n\u001b[0;32m      7\u001b[0m             \u001b[1;32mfor\u001b[0m \u001b[0myear\u001b[0m \u001b[1;32min\u001b[0m \u001b[0mrange\u001b[0m\u001b[1;33m(\u001b[0m\u001b[1;36m2000\u001b[0m\u001b[1;33m,\u001b[0m\u001b[1;36m2101\u001b[0m\u001b[1;33m)\u001b[0m\u001b[1;33m:\u001b[0m\u001b[1;33m\u001b[0m\u001b[1;33m\u001b[0m\u001b[0m\n\u001b[1;32m----> 8\u001b[1;33m                 \u001b[0mratio\u001b[0m \u001b[1;33m=\u001b[0m \u001b[0mfloat\u001b[0m\u001b[1;33m(\u001b[0m\u001b[0mdf1\u001b[0m\u001b[1;33m[\u001b[0m\u001b[1;33m(\u001b[0m\u001b[0mdf1\u001b[0m\u001b[1;33m.\u001b[0m\u001b[0mage_to\u001b[0m \u001b[1;33m==\u001b[0m \u001b[0mage\u001b[0m\u001b[1;33m)\u001b[0m \u001b[1;33m&\u001b[0m \u001b[1;33m(\u001b[0m\u001b[0mdf1\u001b[0m\u001b[1;33m.\u001b[0m\u001b[0myear\u001b[0m \u001b[1;33m==\u001b[0m \u001b[0myear\u001b[0m\u001b[1;33m)\u001b[0m\u001b[1;33m]\u001b[0m\u001b[1;33m.\u001b[0m\u001b[0mvalue\u001b[0m\u001b[1;33m)\u001b[0m\u001b[1;33m/\u001b[0m\u001b[0mdf1\u001b[0m\u001b[1;33m.\u001b[0m\u001b[0mgroupby\u001b[0m\u001b[1;33m(\u001b[0m\u001b[0mby\u001b[0m\u001b[1;33m=\u001b[0m\u001b[1;33m[\u001b[0m\u001b[1;34m'age_group'\u001b[0m\u001b[1;33m,\u001b[0m\u001b[1;34m'year'\u001b[0m\u001b[1;33m]\u001b[0m\u001b[1;33m)\u001b[0m\u001b[1;33m.\u001b[0m\u001b[0msum\u001b[0m\u001b[1;33m(\u001b[0m\u001b[1;33m)\u001b[0m\u001b[1;33m.\u001b[0m\u001b[0mloc\u001b[0m\u001b[1;33m[\u001b[0m\u001b[1;33m(\u001b[0m\u001b[1;34mf'{age_r}-{age_r+4}'\u001b[0m\u001b[1;33m,\u001b[0m\u001b[0myear\u001b[0m\u001b[1;33m)\u001b[0m\u001b[1;33m,\u001b[0m\u001b[1;34m'value'\u001b[0m\u001b[1;33m]\u001b[0m \u001b[1;31m# Ratio of age relative to age group\u001b[0m\u001b[1;33m\u001b[0m\u001b[1;33m\u001b[0m\u001b[0m\n\u001b[0m\u001b[0;32m      9\u001b[0m                 \u001b[0mres_val\u001b[0m \u001b[1;33m=\u001b[0m \u001b[0mtot_val\u001b[0m\u001b[1;33m[\u001b[0m\u001b[1;33m(\u001b[0m\u001b[0myear\u001b[0m\u001b[1;33m-\u001b[0m\u001b[1;36m1990\u001b[0m\u001b[1;33m)\u001b[0m\u001b[1;33m*\u001b[0m\u001b[1;36m4\u001b[0m\u001b[1;33m]\u001b[0m \u001b[1;31m# The '4' should be timestep (if future runs are different)\u001b[0m\u001b[1;33m\u001b[0m\u001b[1;33m\u001b[0m\u001b[0m\n\u001b[0;32m     10\u001b[0m \u001b[1;33m\u001b[0m\u001b[0m\n",
      "\u001b[1;32m~\\miniconda3\\envs\\torch\\lib\\site-packages\\pandas\\core\\indexing.py\u001b[0m in \u001b[0;36m__getitem__\u001b[1;34m(self, key)\u001b[0m\n\u001b[0;32m    923\u001b[0m                 \u001b[1;32mwith\u001b[0m \u001b[0msuppress\u001b[0m\u001b[1;33m(\u001b[0m\u001b[0mKeyError\u001b[0m\u001b[1;33m,\u001b[0m \u001b[0mIndexError\u001b[0m\u001b[1;33m)\u001b[0m\u001b[1;33m:\u001b[0m\u001b[1;33m\u001b[0m\u001b[1;33m\u001b[0m\u001b[0m\n\u001b[0;32m    924\u001b[0m                     \u001b[1;32mreturn\u001b[0m \u001b[0mself\u001b[0m\u001b[1;33m.\u001b[0m\u001b[0mobj\u001b[0m\u001b[1;33m.\u001b[0m\u001b[0m_get_value\u001b[0m\u001b[1;33m(\u001b[0m\u001b[1;33m*\u001b[0m\u001b[0mkey\u001b[0m\u001b[1;33m,\u001b[0m \u001b[0mtakeable\u001b[0m\u001b[1;33m=\u001b[0m\u001b[0mself\u001b[0m\u001b[1;33m.\u001b[0m\u001b[0m_takeable\u001b[0m\u001b[1;33m)\u001b[0m\u001b[1;33m\u001b[0m\u001b[1;33m\u001b[0m\u001b[0m\n\u001b[1;32m--> 925\u001b[1;33m             \u001b[1;32mreturn\u001b[0m \u001b[0mself\u001b[0m\u001b[1;33m.\u001b[0m\u001b[0m_getitem_tuple\u001b[0m\u001b[1;33m(\u001b[0m\u001b[0mkey\u001b[0m\u001b[1;33m)\u001b[0m\u001b[1;33m\u001b[0m\u001b[1;33m\u001b[0m\u001b[0m\n\u001b[0m\u001b[0;32m    926\u001b[0m         \u001b[1;32melse\u001b[0m\u001b[1;33m:\u001b[0m\u001b[1;33m\u001b[0m\u001b[1;33m\u001b[0m\u001b[0m\n\u001b[0;32m    927\u001b[0m             \u001b[1;31m# we by definition only have the 0th axis\u001b[0m\u001b[1;33m\u001b[0m\u001b[1;33m\u001b[0m\u001b[1;33m\u001b[0m\u001b[0m\n",
      "\u001b[1;32m~\\miniconda3\\envs\\torch\\lib\\site-packages\\pandas\\core\\indexing.py\u001b[0m in \u001b[0;36m_getitem_tuple\u001b[1;34m(self, tup)\u001b[0m\n\u001b[0;32m   1098\u001b[0m     \u001b[1;32mdef\u001b[0m \u001b[0m_getitem_tuple\u001b[0m\u001b[1;33m(\u001b[0m\u001b[0mself\u001b[0m\u001b[1;33m,\u001b[0m \u001b[0mtup\u001b[0m\u001b[1;33m:\u001b[0m \u001b[0mtuple\u001b[0m\u001b[1;33m)\u001b[0m\u001b[1;33m:\u001b[0m\u001b[1;33m\u001b[0m\u001b[1;33m\u001b[0m\u001b[0m\n\u001b[0;32m   1099\u001b[0m         \u001b[1;32mwith\u001b[0m \u001b[0msuppress\u001b[0m\u001b[1;33m(\u001b[0m\u001b[0mIndexingError\u001b[0m\u001b[1;33m)\u001b[0m\u001b[1;33m:\u001b[0m\u001b[1;33m\u001b[0m\u001b[1;33m\u001b[0m\u001b[0m\n\u001b[1;32m-> 1100\u001b[1;33m             \u001b[1;32mreturn\u001b[0m \u001b[0mself\u001b[0m\u001b[1;33m.\u001b[0m\u001b[0m_getitem_lowerdim\u001b[0m\u001b[1;33m(\u001b[0m\u001b[0mtup\u001b[0m\u001b[1;33m)\u001b[0m\u001b[1;33m\u001b[0m\u001b[1;33m\u001b[0m\u001b[0m\n\u001b[0m\u001b[0;32m   1101\u001b[0m \u001b[1;33m\u001b[0m\u001b[0m\n\u001b[0;32m   1102\u001b[0m         \u001b[1;31m# no multi-index, so validate all of the indexers\u001b[0m\u001b[1;33m\u001b[0m\u001b[1;33m\u001b[0m\u001b[1;33m\u001b[0m\u001b[0m\n",
      "\u001b[1;32m~\\miniconda3\\envs\\torch\\lib\\site-packages\\pandas\\core\\indexing.py\u001b[0m in \u001b[0;36m_getitem_lowerdim\u001b[1;34m(self, tup)\u001b[0m\n\u001b[0;32m    820\u001b[0m         \u001b[1;31m# we may have a nested tuples indexer here\u001b[0m\u001b[1;33m\u001b[0m\u001b[1;33m\u001b[0m\u001b[1;33m\u001b[0m\u001b[0m\n\u001b[0;32m    821\u001b[0m         \u001b[1;32mif\u001b[0m \u001b[0mself\u001b[0m\u001b[1;33m.\u001b[0m\u001b[0m_is_nested_tuple_indexer\u001b[0m\u001b[1;33m(\u001b[0m\u001b[0mtup\u001b[0m\u001b[1;33m)\u001b[0m\u001b[1;33m:\u001b[0m\u001b[1;33m\u001b[0m\u001b[1;33m\u001b[0m\u001b[0m\n\u001b[1;32m--> 822\u001b[1;33m             \u001b[1;32mreturn\u001b[0m \u001b[0mself\u001b[0m\u001b[1;33m.\u001b[0m\u001b[0m_getitem_nested_tuple\u001b[0m\u001b[1;33m(\u001b[0m\u001b[0mtup\u001b[0m\u001b[1;33m)\u001b[0m\u001b[1;33m\u001b[0m\u001b[1;33m\u001b[0m\u001b[0m\n\u001b[0m\u001b[0;32m    823\u001b[0m \u001b[1;33m\u001b[0m\u001b[0m\n\u001b[0;32m    824\u001b[0m         \u001b[1;31m# we maybe be using a tuple to represent multiple dimensions here\u001b[0m\u001b[1;33m\u001b[0m\u001b[1;33m\u001b[0m\u001b[1;33m\u001b[0m\u001b[0m\n",
      "\u001b[1;32m~\\miniconda3\\envs\\torch\\lib\\site-packages\\pandas\\core\\indexing.py\u001b[0m in \u001b[0;36m_getitem_nested_tuple\u001b[1;34m(self, tup)\u001b[0m\n\u001b[0;32m    904\u001b[0m                 \u001b[1;32mcontinue\u001b[0m\u001b[1;33m\u001b[0m\u001b[1;33m\u001b[0m\u001b[0m\n\u001b[0;32m    905\u001b[0m \u001b[1;33m\u001b[0m\u001b[0m\n\u001b[1;32m--> 906\u001b[1;33m             \u001b[0mobj\u001b[0m \u001b[1;33m=\u001b[0m \u001b[0mgetattr\u001b[0m\u001b[1;33m(\u001b[0m\u001b[0mobj\u001b[0m\u001b[1;33m,\u001b[0m \u001b[0mself\u001b[0m\u001b[1;33m.\u001b[0m\u001b[0mname\u001b[0m\u001b[1;33m)\u001b[0m\u001b[1;33m.\u001b[0m\u001b[0m_getitem_axis\u001b[0m\u001b[1;33m(\u001b[0m\u001b[0mkey\u001b[0m\u001b[1;33m,\u001b[0m \u001b[0maxis\u001b[0m\u001b[1;33m=\u001b[0m\u001b[0maxis\u001b[0m\u001b[1;33m)\u001b[0m\u001b[1;33m\u001b[0m\u001b[1;33m\u001b[0m\u001b[0m\n\u001b[0m\u001b[0;32m    907\u001b[0m             \u001b[0maxis\u001b[0m \u001b[1;33m-=\u001b[0m \u001b[1;36m1\u001b[0m\u001b[1;33m\u001b[0m\u001b[1;33m\u001b[0m\u001b[0m\n\u001b[0;32m    908\u001b[0m \u001b[1;33m\u001b[0m\u001b[0m\n",
      "\u001b[1;32m~\\miniconda3\\envs\\torch\\lib\\site-packages\\pandas\\core\\indexing.py\u001b[0m in \u001b[0;36m_getitem_axis\u001b[1;34m(self, key, axis)\u001b[0m\n\u001b[0;32m   1162\u001b[0m         \u001b[1;31m# fall thru to straight lookup\u001b[0m\u001b[1;33m\u001b[0m\u001b[1;33m\u001b[0m\u001b[1;33m\u001b[0m\u001b[0m\n\u001b[0;32m   1163\u001b[0m         \u001b[0mself\u001b[0m\u001b[1;33m.\u001b[0m\u001b[0m_validate_key\u001b[0m\u001b[1;33m(\u001b[0m\u001b[0mkey\u001b[0m\u001b[1;33m,\u001b[0m \u001b[0maxis\u001b[0m\u001b[1;33m)\u001b[0m\u001b[1;33m\u001b[0m\u001b[1;33m\u001b[0m\u001b[0m\n\u001b[1;32m-> 1164\u001b[1;33m         \u001b[1;32mreturn\u001b[0m \u001b[0mself\u001b[0m\u001b[1;33m.\u001b[0m\u001b[0m_get_label\u001b[0m\u001b[1;33m(\u001b[0m\u001b[0mkey\u001b[0m\u001b[1;33m,\u001b[0m \u001b[0maxis\u001b[0m\u001b[1;33m=\u001b[0m\u001b[0maxis\u001b[0m\u001b[1;33m)\u001b[0m\u001b[1;33m\u001b[0m\u001b[1;33m\u001b[0m\u001b[0m\n\u001b[0m\u001b[0;32m   1165\u001b[0m \u001b[1;33m\u001b[0m\u001b[0m\n\u001b[0;32m   1166\u001b[0m     \u001b[1;32mdef\u001b[0m \u001b[0m_get_slice_axis\u001b[0m\u001b[1;33m(\u001b[0m\u001b[0mself\u001b[0m\u001b[1;33m,\u001b[0m \u001b[0mslice_obj\u001b[0m\u001b[1;33m:\u001b[0m \u001b[0mslice\u001b[0m\u001b[1;33m,\u001b[0m \u001b[0maxis\u001b[0m\u001b[1;33m:\u001b[0m \u001b[0mint\u001b[0m\u001b[1;33m)\u001b[0m\u001b[1;33m:\u001b[0m\u001b[1;33m\u001b[0m\u001b[1;33m\u001b[0m\u001b[0m\n",
      "\u001b[1;32m~\\miniconda3\\envs\\torch\\lib\\site-packages\\pandas\\core\\indexing.py\u001b[0m in \u001b[0;36m_get_label\u001b[1;34m(self, label, axis)\u001b[0m\n\u001b[0;32m   1111\u001b[0m     \u001b[1;32mdef\u001b[0m \u001b[0m_get_label\u001b[0m\u001b[1;33m(\u001b[0m\u001b[0mself\u001b[0m\u001b[1;33m,\u001b[0m \u001b[0mlabel\u001b[0m\u001b[1;33m,\u001b[0m \u001b[0maxis\u001b[0m\u001b[1;33m:\u001b[0m \u001b[0mint\u001b[0m\u001b[1;33m)\u001b[0m\u001b[1;33m:\u001b[0m\u001b[1;33m\u001b[0m\u001b[1;33m\u001b[0m\u001b[0m\n\u001b[0;32m   1112\u001b[0m         \u001b[1;31m# GH#5667 this will fail if the label is not present in the axis.\u001b[0m\u001b[1;33m\u001b[0m\u001b[1;33m\u001b[0m\u001b[1;33m\u001b[0m\u001b[0m\n\u001b[1;32m-> 1113\u001b[1;33m         \u001b[1;32mreturn\u001b[0m \u001b[0mself\u001b[0m\u001b[1;33m.\u001b[0m\u001b[0mobj\u001b[0m\u001b[1;33m.\u001b[0m\u001b[0mxs\u001b[0m\u001b[1;33m(\u001b[0m\u001b[0mlabel\u001b[0m\u001b[1;33m,\u001b[0m \u001b[0maxis\u001b[0m\u001b[1;33m=\u001b[0m\u001b[0maxis\u001b[0m\u001b[1;33m)\u001b[0m\u001b[1;33m\u001b[0m\u001b[1;33m\u001b[0m\u001b[0m\n\u001b[0m\u001b[0;32m   1114\u001b[0m \u001b[1;33m\u001b[0m\u001b[0m\n\u001b[0;32m   1115\u001b[0m     \u001b[1;32mdef\u001b[0m \u001b[0m_handle_lowerdim_multi_index_axis0\u001b[0m\u001b[1;33m(\u001b[0m\u001b[0mself\u001b[0m\u001b[1;33m,\u001b[0m \u001b[0mtup\u001b[0m\u001b[1;33m:\u001b[0m \u001b[0mtuple\u001b[0m\u001b[1;33m)\u001b[0m\u001b[1;33m:\u001b[0m\u001b[1;33m\u001b[0m\u001b[1;33m\u001b[0m\u001b[0m\n",
      "\u001b[1;32m~\\miniconda3\\envs\\torch\\lib\\site-packages\\pandas\\core\\generic.py\u001b[0m in \u001b[0;36mxs\u001b[1;34m(self, key, axis, level, drop_level)\u001b[0m\n\u001b[0;32m   3769\u001b[0m             \u001b[1;32mtry\u001b[0m\u001b[1;33m:\u001b[0m\u001b[1;33m\u001b[0m\u001b[1;33m\u001b[0m\u001b[0m\n\u001b[0;32m   3770\u001b[0m                 loc, new_index = index._get_loc_level(\n\u001b[1;32m-> 3771\u001b[1;33m                     \u001b[0mkey\u001b[0m\u001b[1;33m,\u001b[0m \u001b[0mlevel\u001b[0m\u001b[1;33m=\u001b[0m\u001b[1;36m0\u001b[0m\u001b[1;33m,\u001b[0m \u001b[0mdrop_level\u001b[0m\u001b[1;33m=\u001b[0m\u001b[0mdrop_level\u001b[0m\u001b[1;33m\u001b[0m\u001b[1;33m\u001b[0m\u001b[0m\n\u001b[0m\u001b[0;32m   3772\u001b[0m                 )\n\u001b[0;32m   3773\u001b[0m             \u001b[1;32mexcept\u001b[0m \u001b[0mTypeError\u001b[0m \u001b[1;32mas\u001b[0m \u001b[0me\u001b[0m\u001b[1;33m:\u001b[0m\u001b[1;33m\u001b[0m\u001b[1;33m\u001b[0m\u001b[0m\n",
      "\u001b[1;32m~\\miniconda3\\envs\\torch\\lib\\site-packages\\pandas\\core\\indexes\\multi.py\u001b[0m in \u001b[0;36m_get_loc_level\u001b[1;34m(self, key, level, drop_level)\u001b[0m\n\u001b[0;32m   3080\u001b[0m                         \u001b[1;32mreturn\u001b[0m \u001b[1;33m(\u001b[0m\u001b[0mself\u001b[0m\u001b[1;33m.\u001b[0m\u001b[0m_engine\u001b[0m\u001b[1;33m.\u001b[0m\u001b[0mget_loc\u001b[0m\u001b[1;33m(\u001b[0m\u001b[0mkey\u001b[0m\u001b[1;33m)\u001b[0m\u001b[1;33m,\u001b[0m \u001b[1;32mNone\u001b[0m\u001b[1;33m)\u001b[0m\u001b[1;33m\u001b[0m\u001b[1;33m\u001b[0m\u001b[0m\n\u001b[0;32m   3081\u001b[0m                     \u001b[1;32mexcept\u001b[0m \u001b[0mKeyError\u001b[0m \u001b[1;32mas\u001b[0m \u001b[0me\u001b[0m\u001b[1;33m:\u001b[0m\u001b[1;33m\u001b[0m\u001b[1;33m\u001b[0m\u001b[0m\n\u001b[1;32m-> 3082\u001b[1;33m                         \u001b[1;32mraise\u001b[0m \u001b[0mKeyError\u001b[0m\u001b[1;33m(\u001b[0m\u001b[0mkey\u001b[0m\u001b[1;33m)\u001b[0m \u001b[1;32mfrom\u001b[0m \u001b[0me\u001b[0m\u001b[1;33m\u001b[0m\u001b[1;33m\u001b[0m\u001b[0m\n\u001b[0m\u001b[0;32m   3083\u001b[0m                 \u001b[1;32melse\u001b[0m\u001b[1;33m:\u001b[0m\u001b[1;33m\u001b[0m\u001b[1;33m\u001b[0m\u001b[0m\n\u001b[0;32m   3084\u001b[0m                     \u001b[1;32mreturn\u001b[0m \u001b[0mpartial_selection\u001b[0m\u001b[1;33m(\u001b[0m\u001b[0mkey\u001b[0m\u001b[1;33m)\u001b[0m\u001b[1;33m\u001b[0m\u001b[1;33m\u001b[0m\u001b[0m\n",
      "\u001b[1;31mKeyError\u001b[0m: ('90-94', 2000)"
     ]
    }
   ],
   "source": [
    "for opt in output_dict:\n",
    "    print(opt)\n",
    "    age_r = 0\n",
    "    while age_r < 85:\n",
    "        tot_val = res.get_variable(output_dict[opt])[int(age_r/5)].vals + res.get_variable(output_dict[opt])[int(age_r/5+1)].vals\n",
    "        for age in range(age_r,age_r+5):\n",
    "            for year in range(2000,2101):\n",
    "                ratio = float(df1[(df1.age_to == age) & (df1.year == year)].value)/df1.groupby(by=['age_group','year']).sum().loc[(f'{age_r}-{age_r+4}',year),'value'] # Ratio of age relative to age group\n",
    "                res_val = tot_val[(year-1990)*4] # The '4' should be timestep (if future runs are different)\n",
    "\n",
    "                idx = cen_df[(cen_df.year == year) & (cen_df.age == age)].index[0] #Index of age group year sim entry\n",
    "                cen_df.loc[idx, opt] = ratio * res_val\n",
    "        age_r += 5\n",
    "                \n",
    "    '''\n",
    "    tot_val = res.get_variable(output_dict[opt])[2].vals + res.get_variable(output_dict[opt])[3].vals\n",
    "    for age in range(5,15):\n",
    "        for year in range(2000,2101):\n",
    "            ratio = float(df1[(df1.age_to == age) & (df1.year == year)].value)/df1.groupby(by=['age_group','year']).sum().loc[('5-14',year),'value']\n",
    "            res_val = tot_val[(year-1990)*4]\n",
    "\n",
    "            idx = cen_df[(cen_df.year == year) & (cen_df.age == age)].index[0]\n",
    "            cen_df.loc[idx, opt] = ratio * res_val\n",
    "\n",
    "    tot_val = res.get_variable(output_dict[opt])[4].vals + res.get_variable(output_dict[opt])[5].vals\n",
    "    for age in range(15,50):\n",
    "        for year in range(2000,2101):\n",
    "            ratio = float(df1[(df1.age_to == age) & (df1.year == year)].value)/df1.groupby(by=['age_group','year']).sum().loc[('15-49',year),'value']\n",
    "            res_val = tot_val[(year-1990)*4]\n",
    "\n",
    "            idx = cen_df[(cen_df.year == year) & (cen_df.age == age)].index[0]\n",
    "            cen_df.loc[idx, opt] = ratio * res_val\n",
    "\n",
    "    tot_val = res.get_variable(output_dict[opt])[6].vals + res.get_variable(output_dict[opt])[7].vals\n",
    "    for age in range(50,70):\n",
    "        for year in range(2000,2101):\n",
    "            ratio = float(df1[(df1.age_to == age) & (df1.year == year)].value)/df1.groupby(by=['age_group','year']).sum().loc[('50-69',year),'value']\n",
    "            res_val = tot_val[(year-1990)*4]\n",
    "\n",
    "            idx = cen_df[(cen_df.year == year) & (cen_df.age == age)].index[0]\n",
    "            cen_df.loc[idx, opt] = ratio * res_val\n",
    "    '''\n",
    "    tot_val = res.get_variable(output_dict[opt])[-2].vals + res.get_variable(output_dict[opt])[-1].vals\n",
    "    for age in range(90,101):\n",
    "        for year in range(2000,2101):\n",
    "            ratio = float(df1[(df1.age_from == age) & (df1.year == year)].value)/df1.groupby(by=['age_group','year']).sum().loc[('90+',year),'value']\n",
    "            res_val = tot_val[(year-1990)*4]\n",
    "\n",
    "            idx = cen_df[(cen_df.year == year) & (cen_df.age == age)].index[0]\n",
    "            cen_df.loc[idx, opt] = ratio * res_val\n",
    "            \n"
   ]
  },
  {
   "cell_type": "code",
   "execution_count": 28,
   "id": "5c3e9ef7",
   "metadata": {
    "ExecuteTime": {
     "end_time": "2023-07-06T03:04:59.668549Z",
     "start_time": "2023-07-06T03:04:59.650532Z"
    }
   },
   "outputs": [
    {
     "data": {
      "text/plain": [
       "90"
      ]
     },
     "execution_count": 28,
     "metadata": {},
     "output_type": "execute_result"
    }
   ],
   "source": [
    "age_r"
   ]
  },
  {
   "cell_type": "code",
   "execution_count": null,
   "id": "e02f69c5",
   "metadata": {},
   "outputs": [],
   "source": [
    "tot_val = 0\n",
    "for var in ['cl_acu', 'cl_cir', 'cl_hcc']:\n",
    "    tot_val += res.get_variable(var)[0].vals + res.get_variable(var)[1].vals # Total deaths in age group\n",
    "\n",
    "for age in range(0,5):\n",
    "    for year in range(2000,2101):\n",
    "        ratio = float(df1[(df1.age_to == age) & (df1.year == year)].value)/df1.groupby(by=['age_group','year']).sum().loc[('0-4',year),'value']\n",
    "        res_val = tot_val[(year-1990)*4]\n",
    "\n",
    "        idx = cen_df[(cen_df.year == year) & (cen_df.age == age)].index[0]\n",
    "        cen_df.loc[idx, 'deaths'] = ratio * res_val\n",
    "            \n",
    "tot_val = 0\n",
    "for var in ['cl_acu', 'cl_cir', 'cl_hcc']:\n",
    "    tot_val += res.get_variable(var)[-2].vals + res.get_variable(var)[-1].vals\n",
    "for age in range(90,101):\n",
    "    for year in range(2000,2101):\n",
    "        ratio = float(df1[(df1.age_from == age) & (df1.year == year)].value)/df1.groupby(by=['age_group','year']).sum().loc[('90+',year),'value']\n",
    "        res_val = tot_val[(year-1990)*4]\n",
    "\n",
    "        idx = cen_df[(cen_df.year == year) & (cen_df.age == age)].index[0]\n",
    "        cen_df.loc[idx, 'deaths'] = ratio * res_val"
   ]
  },
  {
   "cell_type": "markdown",
   "id": "0acf9036",
   "metadata": {},
   "source": [
    "### Central Results Function"
   ]
  },
  {
   "cell_type": "code",
   "execution_count": null,
   "id": "cbdf3977",
   "metadata": {},
   "outputs": [],
   "source": [
    "def central_results(fw = 'hbv_v14_gamma_2.xlsx', db = \"AFR_db_v1_2_1.xlsx\", cl = 'AFR_calib_v1_2.xlsx'):\n",
    "    '''\n",
    "    Created by: Phillip Luong (https://github.com/phillipluong)\n",
    "    Last Updated: 31/01/23\n",
    "    Generates a DataFrame listing all central output results.\n",
    "\n",
    "    Inputs:\n",
    "    - fw:       Excel sheet of the Atomica Framework of the model (str)\n",
    "    - db:       Excel sheet of the Atomica Databook of the model (str)\n",
    "    - cl:       Excel sheet of the Model Calibration of the model - specific to a region estimate (str)\n",
    "\n",
    "    Outputs:\n",
    "    - cen_df:   DataFrame listing the central estimates of 1-year age groups between 2000-2100 (DataFrame)\n",
    "    '''\n",
    "    P, res = load_cen_project(fw= fw, db=db, cl=cl)\n",
    "    ## Locations for the important dataframes\n",
    "    loc = 'applications/vimc/Data/Templates/' # The location for the output templates may be different\n",
    "    loc2 = 'applications/vimc/Data/Demographics/' # The location for the input data may be different (depending on where you store it)\n",
    "\n",
    "    ## Load and process the input data\n",
    "    df1 = pd.read_csv(loc2+'202212rfp-1_dds-202208_int_pop_both.csv')\n",
    "\n",
    "    df1 = df1[(df1.year >= 1990) & (df1.year <=2100)]\n",
    "    age_groups = ['0-4', '5-14', '15-49', '50-69', '70+']\n",
    "\n",
    "    ## Assort data by age group\n",
    "    for idx,row in df1.iterrows():\n",
    "        if row.age_from < 5:\n",
    "            df1.loc[idx,'age_group'] = '0-4'\n",
    "        elif row.age_from < 15:\n",
    "            df1.loc[idx,'age_group'] = '5-14'\n",
    "        elif row.age_from < 50:\n",
    "            df1.loc[idx,'age_group'] = '15-49'\n",
    "        elif row.age_from < 70:\n",
    "            df1.loc[idx,'age_group'] = '50-69'\n",
    "        else:\n",
    "            df1.loc[idx,'age_group'] = '70+'\n",
    "\n",
    "\n",
    "    ## Start generating output results\n",
    "    output_dict = {'cohort_size': 'alive', 'cases': 'tot_inc', 'dalys':'dalys'}\n",
    "    cen_df = pd.read_csv(loc+'/central-burden-template.202212rfp-1.RFP_standard template_HepB.csv')\n",
    "\n",
    "    for opt in output_dict:\n",
    "        tot_val = res.get_variable(output_dict[opt])[0].vals + res.get_variable(output_dict[opt])[1].vals\n",
    "        for age in range(0,5):\n",
    "            for year in range(2000,2101):\n",
    "                ratio = float(df1[(df1.age_to == age) & (df1.year == year)].value)/df1.groupby(by=['age_group','year']).sum().loc[('0-4',year),'value'] # Ratio of age relative to age group\n",
    "                res_val = tot_val[(year-1990)*4] # The '4' should be timestep (if future runs are different)\n",
    "\n",
    "                idx = cen_df[(cen_df.year == year) & (cen_df.age == age)].index[0] #Index of age group year sim entry\n",
    "                cen_df.loc[idx, opt] = ratio * res_val\n",
    "\n",
    "        tot_val = res.get_variable(output_dict[opt])[2].vals + res.get_variable(output_dict[opt])[3].vals\n",
    "        for age in range(5,15):\n",
    "            for year in range(2000,2101):\n",
    "                ratio = float(df1[(df1.age_to == age) & (df1.year == year)].value)/df1.groupby(by=['age_group','year']).sum().loc[('5-14',year),'value']\n",
    "                res_val = tot_val[(year-1990)*4]\n",
    "\n",
    "                idx = cen_df[(cen_df.year == year) & (cen_df.age == age)].index[0]\n",
    "                cen_df.loc[idx, opt] = ratio * res_val\n",
    "\n",
    "        tot_val = res.get_variable(output_dict[opt])[4].vals + res.get_variable(output_dict[opt])[5].vals\n",
    "        for age in range(15,50):\n",
    "            for year in range(2000,2101):\n",
    "                ratio = float(df1[(df1.age_to == age) & (df1.year == year)].value)/df1.groupby(by=['age_group','year']).sum().loc[('15-49',year),'value']\n",
    "                res_val = tot_val[(year-1990)*4]\n",
    "\n",
    "                idx = cen_df[(cen_df.year == year) & (cen_df.age == age)].index[0]\n",
    "                cen_df.loc[idx, opt] = ratio * res_val\n",
    "\n",
    "        tot_val = res.get_variable(output_dict[opt])[6].vals + res.get_variable(output_dict[opt])[7].vals\n",
    "        for age in range(50,70):\n",
    "            for year in range(2000,2101):\n",
    "                ratio = float(df1[(df1.age_to == age) & (df1.year == year)].value)/df1.groupby(by=['age_group','year']).sum().loc[('50-69',year),'value']\n",
    "                res_val = tot_val[(year-1990)*4]\n",
    "\n",
    "                idx = cen_df[(cen_df.year == year) & (cen_df.age == age)].index[0]\n",
    "                cen_df.loc[idx, opt] = ratio * res_val\n",
    "\n",
    "        tot_val = res.get_variable(output_dict[opt])[8].vals + res.get_variable(output_dict[opt])[9].vals\n",
    "        for age in range(70,101):\n",
    "            for year in range(2000,2101):\n",
    "                ratio = float(df1[(df1.age_from == age) & (df1.year == year)].value)/df1.groupby(by=['age_group','year']).sum().loc[('70+',year),'value']\n",
    "                res_val = tot_val[(year-1990)*4]\n",
    "\n",
    "                idx = cen_df[(cen_df.year == year) & (cen_df.age == age)].index[0]\n",
    "                cen_df.loc[idx, opt] = ratio * res_val\n",
    "\n",
    "    ## Deaths are calculated separately\n",
    "    tot_val = 0\n",
    "    for var in ['cl_acu', 'cl_cir', 'cl_hcc']:\n",
    "        tot_val += res.get_variable(var)[0].vals + res.get_variable(var)[1].vals # Total deaths in age group\n",
    "\n",
    "    for age in range(0,5):\n",
    "        for year in range(2000,2101):\n",
    "            ratio = float(df1[(df1.age_to == age) & (df1.year == year)].value)/df1.groupby(by=['age_group','year']).sum().loc[('0-4',year),'value']\n",
    "            res_val = tot_val[(year-1990)*4]\n",
    "\n",
    "            idx = cen_df[(cen_df.year == year) & (cen_df.age == age)].index[0]\n",
    "            cen_df.loc[idx, 'deaths'] = ratio * res_val\n",
    "\n",
    "    tot_val = 0\n",
    "    for var in ['cl_acu', 'cl_cir', 'cl_hcc']:\n",
    "        tot_val += res.get_variable(var)[2].vals + res.get_variable(var)[3].vals\n",
    "    for age in range(5,15):\n",
    "        for year in range(2000,2101):\n",
    "            ratio = float(df1[(df1.age_to == age) & (df1.year == year)].value)/df1.groupby(by=['age_group','year']).sum().loc[('5-14',year),'value']\n",
    "            res_val = tot_val[(year-1990)*4]\n",
    "\n",
    "            idx = cen_df[(cen_df.year == year) & (cen_df.age == age)].index[0]\n",
    "            cen_df.loc[idx, 'deaths'] = ratio * res_val\n",
    "\n",
    "    tot_val = 0\n",
    "    for var in ['cl_acu', 'cl_cir', 'cl_hcc']:\n",
    "        tot_val += res.get_variable(var)[4].vals + res.get_variable(var)[5].vals\n",
    "    for age in range(15,50):\n",
    "        for year in range(2000,2101):\n",
    "            ratio = float(df1[(df1.age_to == age) & (df1.year == year)].value)/df1.groupby(by=['age_group','year']).sum().loc[('15-49',year),'value']\n",
    "            res_val = tot_val[(year-1990)*4]\n",
    "\n",
    "            idx = cen_df[(cen_df.year == year) & (cen_df.age == age)].index[0]\n",
    "            cen_df.loc[idx, 'deaths'] = ratio * res_val\n",
    "\n",
    "    tot_val = 0\n",
    "    for var in ['cl_acu', 'cl_cir', 'cl_hcc']:\n",
    "        tot_val += res.get_variable(var)[6].vals + res.get_variable(var)[7].vals\n",
    "    for age in range(50,70):\n",
    "        for year in range(2000,2101):\n",
    "            ratio = float(df1[(df1.age_to == age) & (df1.year == year)].value)/df1.groupby(by=['age_group','year']).sum().loc[('50-69',year),'value']\n",
    "            res_val = tot_val[(year-1990)*4]\n",
    "\n",
    "            idx = cen_df[(cen_df.year == year) & (cen_df.age == age)].index[0]\n",
    "            cen_df.loc[idx, 'deaths'] = ratio * res_val\n",
    "\n",
    "    tot_val = 0\n",
    "    for var in ['cl_acu', 'cl_cir', 'cl_hcc']:\n",
    "        tot_val += res.get_variable(var)[8].vals + res.get_variable(var)[9].vals\n",
    "    for age in range(70,101):\n",
    "        for year in range(2000,2101):\n",
    "            ratio = float(df1[(df1.age_from == age) & (df1.year == year)].value)/df1.groupby(by=['age_group','year']).sum().loc[('70+',year),'value']\n",
    "            res_val = tot_val[(year-1990)*4]\n",
    "\n",
    "            idx = cen_df[(cen_df.year == year) & (cen_df.age == age)].index[0]\n",
    "            cen_df.loc[idx, 'deaths'] = ratio * res_val\n",
    "\n",
    "    return cen_df"
   ]
  }
 ],
 "metadata": {
  "kernelspec": {
   "display_name": "Python [conda env:torch] *",
   "language": "python",
   "name": "conda-env-torch-py"
  },
  "language_info": {
   "codemirror_mode": {
    "name": "ipython",
    "version": 3
   },
   "file_extension": ".py",
   "mimetype": "text/x-python",
   "name": "python",
   "nbconvert_exporter": "python",
   "pygments_lexer": "ipython3",
   "version": "3.7.11"
  },
  "toc": {
   "base_numbering": 1,
   "nav_menu": {},
   "number_sections": true,
   "sideBar": true,
   "skip_h1_title": false,
   "title_cell": "Table of Contents",
   "title_sidebar": "Contents",
   "toc_cell": false,
   "toc_position": {},
   "toc_section_display": true,
   "toc_window_display": true
  }
 },
 "nbformat": 4,
 "nbformat_minor": 5
}
