{
 "cells": [
  {
   "cell_type": "code",
   "execution_count": 8,
   "id": "8576f00b",
   "metadata": {},
   "outputs": [],
   "source": [
    "import atomica as at\n",
    "import numpy as np\n",
    "import pandas as pd\n",
    "import hbv_functions as hbv\n",
    "import matplotlib.pyplot as plt"
   ]
  },
  {
   "cell_type": "code",
   "execution_count": 6,
   "id": "8336bca5",
   "metadata": {},
   "outputs": [
    {
     "name": "stderr",
     "output_type": "stream",
     "text": [
      "C:\\Users\\iamph\\Miniconda3\\lib\\site-packages\\atomica\\framework.py:914: FutureWarning: iteritems is deprecated and will be removed in a future version. Use .items instead.\n",
      "  for to_comp, par_names in from_row.iteritems():\n"
     ]
    }
   ],
   "source": [
    "F = at.ProjectFramework('frameworks/hbv_v14_gamma_mav.xlsx')\n",
    "D = at.ProjectData.from_spreadsheet(f\"applications/region_emr/EMR_db_mav.xlsx\", framework=F)\n",
    "P = at.Project(framework=F, databook=D, sim_dt=0.25, sim_start=1990, sim_end=2099, do_run=False)"
   ]
  },
  {
   "cell_type": "code",
   "execution_count": 7,
   "id": "8f8a30d9",
   "metadata": {},
   "outputs": [
    {
     "name": "stderr",
     "output_type": "stream",
     "text": [
      "No parameters were marked as \"Targetable\" in the Framework, so no program effects were added\n"
     ]
    },
    {
     "name": "stdout",
     "output_type": "stream",
     "text": [
      "Object saved to C:\\Users\\iamph\\Documents\\GitHub\\hbv-globalinvcase\\test_progbook.xlsx.\n"
     ]
    }
   ],
   "source": [
    "progset = at.ProgramSet.new(framework = F, data = P.data, tvec = [2020,2023], progs = 1)\n",
    "progset.save('test_progbook.xlsx')"
   ]
  },
  {
   "cell_type": "markdown",
   "id": "88930cd4",
   "metadata": {},
   "source": [
    "### Manually edit this progbook to change the vaccination rate from the set value to 0\n",
    "\n",
    "TODO: edit the progbook using code\n",
    "\n",
    "How to adjust a program that changes a more complex vaccination scenario?\n",
    "- ie. the current vaccination scenario might have a non-constant trend, and I want to change it to another non-constant trend. How would I best go about that?\n",
    "\n",
    "- What are program instructions?? "
   ]
  },
  {
   "cell_type": "code",
   "execution_count": null,
   "id": "c6eb64dc",
   "metadata": {},
   "outputs": [],
   "source": []
  },
  {
   "cell_type": "code",
   "execution_count": null,
   "id": "18f2310b",
   "metadata": {},
   "outputs": [],
   "source": []
  }
 ],
 "metadata": {
  "kernelspec": {
   "display_name": "Python 3 (ipykernel)",
   "language": "python",
   "name": "python3"
  },
  "language_info": {
   "codemirror_mode": {
    "name": "ipython",
    "version": 3
   },
   "file_extension": ".py",
   "mimetype": "text/x-python",
   "name": "python",
   "nbconvert_exporter": "python",
   "pygments_lexer": "ipython3",
   "version": "3.10.9"
  },
  "toc": {
   "base_numbering": 1,
   "nav_menu": {},
   "number_sections": true,
   "sideBar": true,
   "skip_h1_title": false,
   "title_cell": "Table of Contents",
   "title_sidebar": "Contents",
   "toc_cell": false,
   "toc_position": {},
   "toc_section_display": true,
   "toc_window_display": false
  }
 },
 "nbformat": 4,
 "nbformat_minor": 5
}
