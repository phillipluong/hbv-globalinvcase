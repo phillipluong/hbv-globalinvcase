{
 "cells": [
  {
   "cell_type": "code",
   "execution_count": 1,
   "id": "fe588084",
   "metadata": {
    "ExecuteTime": {
     "end_time": "2023-07-06T04:57:30.541691Z",
     "start_time": "2023-07-06T04:57:29.209943Z"
    }
   },
   "outputs": [],
   "source": [
    "import pandas as pd\n",
    "import numpy as np\n",
    "import atomica as at\n",
    "import hbv_functions as hbv"
   ]
  },
  {
   "cell_type": "code",
   "execution_count": 4,
   "id": "dae1a901",
   "metadata": {
    "ExecuteTime": {
     "end_time": "2023-07-06T04:59:08.292574Z",
     "start_time": "2023-07-06T04:58:51.700275Z"
    }
   },
   "outputs": [
    {
     "name": "stderr",
     "output_type": "stream",
     "text": [
      "Parameter \"m_dc\" is in rate units and a maximum value of \"1\" has been entered. Rates in the framework should generally not be limited to \"1\"\n",
      "Parameter \"m_hcc\" is in rate units and a maximum value of \"1\" has been entered. Rates in the framework should generally not be limited to \"1\"\n"
     ]
    },
    {
     "name": "stdout",
     "output_type": "stream",
     "text": [
      "Current region: WPR\n",
      "Elapsed time for running \"default\": 5.88s\n"
     ]
    }
   ],
   "source": [
    "regions = ['WPR'] # Regions must be in a list form\n",
    "app = 'vimc' # At the moment app must be either 'vimc' or 'region'\n",
    "edf = hbv.error_table(regions, app = 'vimc', fw_loc = 'frameworks/hbv_v15_csdev_b.xlsx')"
   ]
  },
  {
   "cell_type": "code",
   "execution_count": 5,
   "id": "dcb4ea94",
   "metadata": {
    "ExecuteTime": {
     "end_time": "2023-07-06T04:59:08.388661Z",
     "start_time": "2023-07-06T04:59:08.293575Z"
    }
   },
   "outputs": [
    {
     "data": {
      "text/html": [
       "<style type=\"text/css\">\n",
       "#T_03b7f_row0_col0, #T_03b7f_row0_col1 {\n",
       "  color: black;\n",
       "  background-color: mediumseagreen;\n",
       "}\n",
       "#T_03b7f_row0_col2 {\n",
       "  color: white;\n",
       "  background-color: black;\n",
       "}\n",
       "#T_03b7f_row0_col3 {\n",
       "  color: white;\n",
       "  background-color: red;\n",
       "}\n",
       "</style>\n",
       "<table id=\"T_03b7f_\">\n",
       "  <thead>\n",
       "    <tr>\n",
       "      <th class=\"blank level0\" >&nbsp;</th>\n",
       "      <th class=\"col_heading level0 col0\" >chb_pop</th>\n",
       "      <th class=\"col_heading level0 col1\" >cl_acu</th>\n",
       "      <th class=\"col_heading level0 col2\" >cl_cir</th>\n",
       "      <th class=\"col_heading level0 col3\" >cl_hcc</th>\n",
       "    </tr>\n",
       "  </thead>\n",
       "  <tbody>\n",
       "    <tr>\n",
       "      <th id=\"T_03b7f_level0_row0\" class=\"row_heading level0 row0\" >WPR</th>\n",
       "      <td id=\"T_03b7f_row0_col0\" class=\"data row0 col0\" >0.357200</td>\n",
       "      <td id=\"T_03b7f_row0_col1\" class=\"data row0 col1\" >0.368900</td>\n",
       "      <td id=\"T_03b7f_row0_col2\" class=\"data row0 col2\" >1.275200</td>\n",
       "      <td id=\"T_03b7f_row0_col3\" class=\"data row0 col3\" >0.987200</td>\n",
       "    </tr>\n",
       "  </tbody>\n",
       "</table>\n"
      ],
      "text/plain": [
       "<pandas.io.formats.style.Styler at 0x14a0a8cb308>"
      ]
     },
     "execution_count": 5,
     "metadata": {},
     "output_type": "execute_result"
    }
   ],
   "source": [
    "hbv.determine_cal_quality(edf)"
   ]
  },
  {
   "cell_type": "code",
   "execution_count": null,
   "id": "bdaa697c",
   "metadata": {},
   "outputs": [],
   "source": []
  }
 ],
 "metadata": {
  "kernelspec": {
   "display_name": "Python [conda env:torch] *",
   "language": "python",
   "name": "conda-env-torch-py"
  },
  "language_info": {
   "codemirror_mode": {
    "name": "ipython",
    "version": 3
   },
   "file_extension": ".py",
   "mimetype": "text/x-python",
   "name": "python",
   "nbconvert_exporter": "python",
   "pygments_lexer": "ipython3",
   "version": "3.7.11"
  },
  "toc": {
   "base_numbering": 1,
   "nav_menu": {},
   "number_sections": true,
   "sideBar": true,
   "skip_h1_title": false,
   "title_cell": "Table of Contents",
   "title_sidebar": "Contents",
   "toc_cell": false,
   "toc_position": {},
   "toc_section_display": true,
   "toc_window_display": true
  }
 },
 "nbformat": 4,
 "nbformat_minor": 5
}
