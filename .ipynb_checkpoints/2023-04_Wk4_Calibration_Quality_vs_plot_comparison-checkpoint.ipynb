{
 "cells": [
  {
   "cell_type": "code",
   "execution_count": 1,
   "id": "3916220c",
   "metadata": {},
   "outputs": [],
   "source": [
    "import os\n",
    "wd= 'C:/Users/iamph/Documents/GitHub/hbv-globalinvcase'#set own working directory\n",
    "os.chdir(wd)\n",
    "\n",
    "import atomica as at\n",
    "import numpy as np\n",
    "import pandas as pd\n",
    "import matplotlib.pyplot as plt\n",
    "import hbv_functions as hbv"
   ]
  },
  {
   "cell_type": "code",
   "execution_count": 2,
   "id": "62ff79a8",
   "metadata": {},
   "outputs": [
    {
     "name": "stderr",
     "output_type": "stream",
     "text": [
      "C:\\Users\\iamph\\Miniconda3\\lib\\site-packages\\atomica\\framework.py:914: FutureWarning: iteritems is deprecated and will be removed in a future version. Use .items instead.\n",
      "  for to_comp, par_names in from_row.iteritems():\n"
     ]
    },
    {
     "name": "stdout",
     "output_type": "stream",
     "text": [
      "Current region: AFR\n",
      "Elapsed time for running \"default\": 7.38s\n",
      "Current region: AMR\n",
      "Elapsed time for running \"default\": 8.01s\n",
      "Current region: EMR\n",
      "Elapsed time for running \"default\": 7.53s\n",
      "Current region: EUR\n",
      "Elapsed time for running \"default\": 7.61s\n",
      "Current region: SEAR\n",
      "Elapsed time for running \"default\": 7.91s\n",
      "Current region: WPR\n",
      "Elapsed time for running \"default\": 7.35s\n"
     ]
    }
   ],
   "source": [
    "regions = ['AFR', 'AMR', 'EMR', 'EUR', 'SEAR', 'WPR']\n",
    "edf = hbv.error_table(regions)"
   ]
  },
  {
   "cell_type": "code",
   "execution_count": 5,
   "id": "000cd71f",
   "metadata": {},
   "outputs": [
    {
     "data": {
      "text/html": [
       "<div>\n",
       "<style scoped>\n",
       "    .dataframe tbody tr th:only-of-type {\n",
       "        vertical-align: middle;\n",
       "    }\n",
       "\n",
       "    .dataframe tbody tr th {\n",
       "        vertical-align: top;\n",
       "    }\n",
       "\n",
       "    .dataframe thead th {\n",
       "        text-align: right;\n",
       "    }\n",
       "</style>\n",
       "<table border=\"1\" class=\"dataframe\">\n",
       "  <thead>\n",
       "    <tr style=\"text-align: right;\">\n",
       "      <th></th>\n",
       "      <th>chb_pop</th>\n",
       "      <th>cl_acu</th>\n",
       "      <th>cl_cir</th>\n",
       "      <th>cl_hcc</th>\n",
       "    </tr>\n",
       "  </thead>\n",
       "  <tbody>\n",
       "    <tr>\n",
       "      <th>AFR</th>\n",
       "      <td>0.2517</td>\n",
       "      <td>0.1349</td>\n",
       "      <td>0.0847</td>\n",
       "      <td>0.1731</td>\n",
       "    </tr>\n",
       "    <tr>\n",
       "      <th>AMR</th>\n",
       "      <td>0.2972</td>\n",
       "      <td>0.2728</td>\n",
       "      <td>0.1721</td>\n",
       "      <td>0.2041</td>\n",
       "    </tr>\n",
       "    <tr>\n",
       "      <th>EMR</th>\n",
       "      <td>0.3038</td>\n",
       "      <td>0.5231</td>\n",
       "      <td>0.2043</td>\n",
       "      <td>0.2167</td>\n",
       "    </tr>\n",
       "    <tr>\n",
       "      <th>EUR</th>\n",
       "      <td>0.1721</td>\n",
       "      <td>0.3919</td>\n",
       "      <td>0.1634</td>\n",
       "      <td>0.0910</td>\n",
       "    </tr>\n",
       "    <tr>\n",
       "      <th>SEAR</th>\n",
       "      <td>0.2581</td>\n",
       "      <td>0.1978</td>\n",
       "      <td>0.1101</td>\n",
       "      <td>0.1960</td>\n",
       "    </tr>\n",
       "    <tr>\n",
       "      <th>WPR</th>\n",
       "      <td>0.3053</td>\n",
       "      <td>0.4285</td>\n",
       "      <td>0.1827</td>\n",
       "      <td>0.1599</td>\n",
       "    </tr>\n",
       "  </tbody>\n",
       "</table>\n",
       "</div>"
      ],
      "text/plain": [
       "      chb_pop  cl_acu  cl_cir  cl_hcc\n",
       "AFR    0.2517  0.1349  0.0847  0.1731\n",
       "AMR    0.2972  0.2728  0.1721  0.2041\n",
       "EMR    0.3038  0.5231  0.2043  0.2167\n",
       "EUR    0.1721  0.3919  0.1634  0.0910\n",
       "SEAR   0.2581  0.1978  0.1101  0.1960\n",
       "WPR    0.3053  0.4285  0.1827  0.1599"
      ]
     },
     "execution_count": 5,
     "metadata": {},
     "output_type": "execute_result"
    }
   ],
   "source": [
    "edf"
   ]
  },
  {
   "cell_type": "code",
   "execution_count": 4,
   "id": "04b00e16",
   "metadata": {
    "collapsed": true
   },
   "outputs": [
    {
     "ename": "NameError",
     "evalue": "name 'highlight_results' is not defined",
     "output_type": "error",
     "traceback": [
      "\u001b[1;31m---------------------------------------------------------------------------\u001b[0m",
      "\u001b[1;31mNameError\u001b[0m                                 Traceback (most recent call last)",
      "Cell \u001b[1;32mIn[4], line 1\u001b[0m\n\u001b[1;32m----> 1\u001b[0m \u001b[43mhbv\u001b[49m\u001b[38;5;241;43m.\u001b[39;49m\u001b[43mdetermine_cal_quality\u001b[49m\u001b[43m(\u001b[49m\u001b[43medf\u001b[49m\u001b[43m)\u001b[49m\n",
      "File \u001b[1;32m~\\Documents\\GitHub\\hbv-globalinvcase\\hbv_functions\\utils.py:1302\u001b[0m, in \u001b[0;36mdetermine_cal_quality\u001b[1;34m(df)\u001b[0m\n\u001b[0;32m   1294\u001b[0m \u001b[38;5;28;01mdef\u001b[39;00m \u001b[38;5;21mdetermine_cal_quality\u001b[39m(df):\n\u001b[0;32m   1295\u001b[0m \u001b[38;5;250m    \u001b[39m\u001b[38;5;124;03m\"\"\"\u001b[39;00m\n\u001b[0;32m   1296\u001b[0m \u001b[38;5;124;03m    Created by: Phillip Luong\u001b[39;00m\n\u001b[0;32m   1297\u001b[0m \u001b[38;5;124;03m    Last Updated: 26/04/2023\u001b[39;00m\n\u001b[0;32m   1298\u001b[0m \u001b[38;5;124;03m    Taken from cat-typhoid\u001b[39;00m\n\u001b[0;32m   1299\u001b[0m \u001b[38;5;124;03m    Needs highlight_results, helps determine how good the calibrations are after generate_output_df\u001b[39;00m\n\u001b[0;32m   1300\u001b[0m \u001b[38;5;124;03m    \"\"\"\u001b[39;00m\n\u001b[1;32m-> 1302\u001b[0m     df \u001b[38;5;241m=\u001b[39m df\u001b[38;5;241m.\u001b[39mstyle\u001b[38;5;241m.\u001b[39mapply(\u001b[43mhighlight_results\u001b[49m, lb\u001b[38;5;241m=\u001b[39m\u001b[38;5;241m1\u001b[39m, ub\u001b[38;5;241m=\u001b[39m\u001b[38;5;241m1000\u001b[39m, props\u001b[38;5;241m=\u001b[39m\u001b[38;5;124m\"\u001b[39m\u001b[38;5;124mcolor:white;background-color:black\u001b[39m\u001b[38;5;124m\"\u001b[39m,  axis\u001b[38;5;241m=\u001b[39m\u001b[38;5;241m0\u001b[39m)\u001b[38;5;241m.\u001b[39mapply(highlight_results, lb\u001b[38;5;241m=\u001b[39m\u001b[38;5;241m0.6\u001b[39m, ub\u001b[38;5;241m=\u001b[39m\u001b[38;5;241m1\u001b[39m, props\u001b[38;5;241m=\u001b[39m\u001b[38;5;124m\"\u001b[39m\u001b[38;5;124mcolor:white;background-color:red\u001b[39m\u001b[38;5;124m\"\u001b[39m,axis\u001b[38;5;241m=\u001b[39m\u001b[38;5;241m0\u001b[39m)\u001b[38;5;241m.\u001b[39mapply(highlight_results, lb\u001b[38;5;241m=\u001b[39m\u001b[38;5;241m0.4\u001b[39m, ub\u001b[38;5;241m=\u001b[39m\u001b[38;5;241m0.6\u001b[39m, props\u001b[38;5;241m=\u001b[39m\u001b[38;5;124m\"\u001b[39m\u001b[38;5;124mcolor:black;background-color:gold\u001b[39m\u001b[38;5;124m\"\u001b[39m,  axis\u001b[38;5;241m=\u001b[39m\u001b[38;5;241m0\u001b[39m)\u001b[38;5;241m.\u001b[39mapply(highlight_results, lb\u001b[38;5;241m=\u001b[39m\u001b[38;5;241m0\u001b[39m, ub\u001b[38;5;241m=\u001b[39m\u001b[38;5;241m0.4\u001b[39m, props\u001b[38;5;241m=\u001b[39m\u001b[38;5;124m\"\u001b[39m\u001b[38;5;124mcolor:black;background-color:mediumseagreen\u001b[39m\u001b[38;5;124m\"\u001b[39m,  axis\u001b[38;5;241m=\u001b[39m\u001b[38;5;241m0\u001b[39m)\n\u001b[0;32m   1303\u001b[0m     \u001b[38;5;28;01mreturn\u001b[39;00m df\n",
      "\u001b[1;31mNameError\u001b[0m: name 'highlight_results' is not defined"
     ]
    }
   ],
   "source": [
    "hbv.determine_cal_quality(edf)"
   ]
  },
  {
   "cell_type": "code",
   "execution_count": null,
   "id": "bc6e528e",
   "metadata": {},
   "outputs": [],
   "source": []
  },
  {
   "cell_type": "markdown",
   "id": "2d469853",
   "metadata": {},
   "source": [
    "### Plot Results to compare"
   ]
  },
  {
   "cell_type": "code",
   "execution_count": 7,
   "id": "c39ec651",
   "metadata": {},
   "outputs": [
    {
     "name": "stderr",
     "output_type": "stream",
     "text": [
      "C:\\Users\\iamph\\Miniconda3\\lib\\site-packages\\atomica\\framework.py:914: FutureWarning: iteritems is deprecated and will be removed in a future version. Use .items instead.\n",
      "  for to_comp, par_names in from_row.iteritems():\n"
     ]
    },
    {
     "name": "stdout",
     "output_type": "stream",
     "text": [
      "Elapsed time for running \"default\": 6.86s\n"
     ]
    }
   ],
   "source": [
    "ct = 'EUR'\n",
    "loc = f\"valuations/vimc/\"\n",
    "fw = 'frameworks/hbv_v14_gamma_mav.xlsx'\n",
    "F = at.ProjectFramework(fw)\n",
    "D = at.ProjectData.from_spreadsheet(f\"applications/region_{ct.lower()}/{ct}_db_mav.xlsx\", framework=F)\n",
    "P= at.Project(framework=F, databook=D, sim_dt=0.25, sim_start=1990, sim_end=2099, do_run=False)\n",
    "cal = P.make_parset()\n",
    "cal.load_calibration(f\"applications/region_{ct.lower()}/{ct}_calib.xlsx\")\n",
    "res = P.run_sim(parset=cal, result_name = f'{ct} calibration')\n",
    "\n",
    "d=at.PlotData([res], outputs=['chb_pop', 'cl_acu', 'cl_cir', 'cl_hcc'])\n",
    "at.plot_series(d, data=P.data, axis=\"pops\")\n",
    "\n",
    "plt.show()"
   ]
  },
  {
   "cell_type": "code",
   "execution_count": null,
   "id": "174e980f",
   "metadata": {},
   "outputs": [],
   "source": []
  }
 ],
 "metadata": {
  "kernelspec": {
   "display_name": "Python 3 (ipykernel)",
   "language": "python",
   "name": "python3"
  },
  "language_info": {
   "codemirror_mode": {
    "name": "ipython",
    "version": 3
   },
   "file_extension": ".py",
   "mimetype": "text/x-python",
   "name": "python",
   "nbconvert_exporter": "python",
   "pygments_lexer": "ipython3",
   "version": "3.10.9"
  },
  "toc": {
   "base_numbering": 1,
   "nav_menu": {},
   "number_sections": true,
   "sideBar": true,
   "skip_h1_title": false,
   "title_cell": "Table of Contents",
   "title_sidebar": "Contents",
   "toc_cell": false,
   "toc_position": {},
   "toc_section_display": true,
   "toc_window_display": false
  }
 },
 "nbformat": 4,
 "nbformat_minor": 5
}
