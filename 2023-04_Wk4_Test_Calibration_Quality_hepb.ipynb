{
 "cells": [
  {
   "cell_type": "code",
   "execution_count": 3,
   "id": "01223579",
   "metadata": {},
   "outputs": [],
   "source": [
    "import os\n",
    "wd= 'C:/Users/iamph/Documents/GitHub/hbv-globalinvcase'#set own working directory\n",
    "os.chdir(wd)\n",
    "\n",
    "import atomica as at\n",
    "import numpy as np\n",
    "import pandas as pd\n",
    "import matplotlib.pyplot as plt\n",
    "from sklearn.metrics import mean_absolute_error, mean_squared_error, mean_absolute_percentage_error"
   ]
  },
  {
   "cell_type": "code",
   "execution_count": 4,
   "id": "09e07e2b",
   "metadata": {},
   "outputs": [
    {
     "name": "stderr",
     "output_type": "stream",
     "text": [
      "C:\\Users\\iamph\\Miniconda3\\lib\\site-packages\\atomica\\framework.py:914: FutureWarning: iteritems is deprecated and will be removed in a future version. Use .items instead.\n",
      "  for to_comp, par_names in from_row.iteritems():\n"
     ]
    }
   ],
   "source": [
    "region = 'AMR'\n",
    "F = at.ProjectFramework('frameworks/hbv_v14_gamma_mav.xlsx')\n",
    "D = at.ProjectData.from_spreadsheet(f\"applications/region_{region.lower()}/{region}_db_mav.xlsx\", framework=F)\n",
    "P= at.Project(framework=F, databook=D, sim_dt=0.25, sim_start=1990, sim_end=2099, do_run=False)\n",
    "cal = P.make_parset()"
   ]
  },
  {
   "cell_type": "code",
   "execution_count": 5,
   "id": "ad9a2e97",
   "metadata": {},
   "outputs": [
    {
     "name": "stdout",
     "output_type": "stream",
     "text": [
      "Elapsed time for running \"default\": 4.82s\n"
     ]
    }
   ],
   "source": [
    "res = P.run_sim(parset=cal, result_name = 'Base Calibration')"
   ]
  },
  {
   "cell_type": "markdown",
   "id": "1724e9d0",
   "metadata": {},
   "source": [
    "### Extract Key Datapoints"
   ]
  },
  {
   "cell_type": "code",
   "execution_count": 7,
   "id": "62e579dd",
   "metadata": {},
   "outputs": [],
   "source": [
    "def metric(data, est, mt):\n",
    "    \"\"\"\n",
    "    LAST EDIT: 10/08/21\n",
    "    by: Phillip Luong\n",
    "\n",
    "    :param data: An array or list of data points to calibrate to\n",
    "    :param est: An array or list of the estimated points\n",
    "    :param mt: 'mae', 'mse', 'rmse', 'mape'\n",
    "    :return: Numercal value for the error\n",
    "    \"\"\"\n",
    "    if mt == \"mae\":\n",
    "        return mean_absolute_error(data, est, sample_weight=data)\n",
    "    if mt == \"mse\":\n",
    "        return mean_squared_error(data, est, sample_weight=data)\n",
    "    if mt == \"rmse\":\n",
    "        return mean_squared_error(data, est, sample_weight=data, squared=False)\n",
    "    if mt == \"mape\":\n",
    "        return mean_absolute_percentage_error(data, est, sample_weight=data)"
   ]
  },
  {
   "cell_type": "code",
   "execution_count": 15,
   "id": "edf83dec",
   "metadata": {},
   "outputs": [],
   "source": [
    "edf = pd.DataFrame()\n",
    "p_years = [2015,2019]\n",
    "years = [2010, 2015, 2019]"
   ]
  },
  {
   "cell_type": "code",
   "execution_count": 8,
   "id": "d6c48ee1",
   "metadata": {},
   "outputs": [
    {
     "data": {
      "text/plain": [
       "10"
      ]
     },
     "execution_count": 8,
     "metadata": {},
     "output_type": "execute_result"
    }
   ],
   "source": [
    "len(D.pops)"
   ]
  },
  {
   "cell_type": "code",
   "execution_count": 12,
   "id": "cd10a234",
   "metadata": {},
   "outputs": [],
   "source": [
    "data = [P.data.tdve[\"cl_cir\"].ts[x].interpolate(2010) for x in range(10)]\n",
    "data = [i[0] for i in data]"
   ]
  },
  {
   "cell_type": "code",
   "execution_count": 13,
   "id": "d1b92779",
   "metadata": {},
   "outputs": [
    {
     "data": {
      "text/plain": [
       "[1.0, 0.0, 1.0, 0.0, 2188.0, 388.0, 2902.0, 719.0, 1035.0, 516.0]"
      ]
     },
     "execution_count": 13,
     "metadata": {},
     "output_type": "execute_result"
    }
   ],
   "source": [
    "data"
   ]
  },
  {
   "cell_type": "code",
   "execution_count": null,
   "id": "1b596073",
   "metadata": {},
   "outputs": [],
   "source": []
  },
  {
   "cell_type": "code",
   "execution_count": 20,
   "id": "4c1747e0",
   "metadata": {},
   "outputs": [
    {
     "data": {
      "text/plain": [
       "Characteristic \"alive\" ('0-4M', 'alive')"
      ]
     },
     "execution_count": 20,
     "metadata": {},
     "output_type": "execute_result"
    }
   ],
   "source": [
    "res.get_variable(\"alive\")[0]"
   ]
  },
  {
   "cell_type": "code",
   "execution_count": 22,
   "id": "2580ce4b",
   "metadata": {},
   "outputs": [
    {
     "ename": "AttributeError",
     "evalue": "'numpy.float64' object has no attribute 'vals'",
     "output_type": "error",
     "traceback": [
      "\u001b[1;31m---------------------------------------------------------------------------\u001b[0m",
      "\u001b[1;31mAttributeError\u001b[0m                            Traceback (most recent call last)",
      "Cell \u001b[1;32mIn[22], line 1\u001b[0m\n\u001b[1;32m----> 1\u001b[0m [x\u001b[38;5;241m.\u001b[39mvals[yr \u001b[38;5;241m*\u001b[39m \u001b[38;5;241m4\u001b[39m] \u001b[38;5;28;01mfor\u001b[39;00m x \u001b[38;5;129;01min\u001b[39;00m res\u001b[38;5;241m.\u001b[39mget_variable(\u001b[38;5;124m\"\u001b[39m\u001b[38;5;124malive\u001b[39m\u001b[38;5;124m\"\u001b[39m)[\u001b[38;5;241m0\u001b[39m]]\n",
      "Cell \u001b[1;32mIn[22], line 1\u001b[0m, in \u001b[0;36m<listcomp>\u001b[1;34m(.0)\u001b[0m\n\u001b[1;32m----> 1\u001b[0m [\u001b[43mx\u001b[49m\u001b[38;5;241;43m.\u001b[39;49m\u001b[43mvals\u001b[49m[yr \u001b[38;5;241m*\u001b[39m \u001b[38;5;241m4\u001b[39m] \u001b[38;5;28;01mfor\u001b[39;00m x \u001b[38;5;129;01min\u001b[39;00m res\u001b[38;5;241m.\u001b[39mget_variable(\u001b[38;5;124m\"\u001b[39m\u001b[38;5;124malive\u001b[39m\u001b[38;5;124m\"\u001b[39m)[\u001b[38;5;241m0\u001b[39m]]\n",
      "\u001b[1;31mAttributeError\u001b[0m: 'numpy.float64' object has no attribute 'vals'"
     ]
    }
   ],
   "source": [
    "[x.vals[ * 4] for x in res.get_variable(\"alive\")[0]]"
   ]
  },
  {
   "cell_type": "code",
   "execution_count": 26,
   "id": "e98d7c5e",
   "metadata": {},
   "outputs": [],
   "source": [
    "data = []\n",
    "est = []\n",
    "for yr in years[1:]:\n",
    "    tmp = [P.data.tdve[\"alive\"].ts[x].interpolate(2000 + yr) for x in range(10)]  # data\n",
    "    data += [i[0] for i in tmp]\n",
    "    est += [x.vals[(yr-2000) * 4] for x in res.get_variable(\"alive\")]  # estimate"
   ]
  },
  {
   "cell_type": "code",
   "execution_count": 25,
   "id": "9f7e9716",
   "metadata": {},
   "outputs": [
    {
     "data": {
      "text/plain": [
       "20"
      ]
     },
     "execution_count": 25,
     "metadata": {},
     "output_type": "execute_result"
    }
   ],
   "source": [
    "len(est)"
   ]
  },
  {
   "cell_type": "code",
   "execution_count": 27,
   "id": "a4c5ffac",
   "metadata": {},
   "outputs": [
    {
     "data": {
      "text/plain": [
       "20"
      ]
     },
     "execution_count": 27,
     "metadata": {},
     "output_type": "execute_result"
    }
   ],
   "source": [
    "len(data)"
   ]
  },
  {
   "cell_type": "code",
   "execution_count": 28,
   "id": "07b03bb6",
   "metadata": {},
   "outputs": [
    {
     "data": {
      "text/plain": [
       "0.5064597681882885"
      ]
     },
     "execution_count": 28,
     "metadata": {},
     "output_type": "execute_result"
    }
   ],
   "source": [
    "metric(data, est, 'mape')"
   ]
  },
  {
   "cell_type": "code",
   "execution_count": 85,
   "id": "8c6e3821",
   "metadata": {},
   "outputs": [],
   "source": [
    "regions = ['AFR', 'AMR', 'EMR', 'EUR', 'SEAR', 'WPR']"
   ]
  },
  {
   "cell_type": "code",
   "execution_count": 40,
   "id": "6f1cf603",
   "metadata": {},
   "outputs": [],
   "source": [
    "pars = ['chb_pop', 'cl_acu', 'cl_cir', 'cl_hcc']"
   ]
  },
  {
   "cell_type": "code",
   "execution_count": 48,
   "id": "637e841c",
   "metadata": {},
   "outputs": [],
   "source": []
  },
  {
   "cell_type": "code",
   "execution_count": 76,
   "id": "866bf828",
   "metadata": {},
   "outputs": [
    {
     "data": {
      "text/plain": [
       "'AMR'"
      ]
     },
     "execution_count": 76,
     "metadata": {},
     "output_type": "execute_result"
    }
   ],
   "source": [
    "ct"
   ]
  },
  {
   "cell_type": "code",
   "execution_count": 86,
   "id": "b9850db0",
   "metadata": {},
   "outputs": [
    {
     "name": "stderr",
     "output_type": "stream",
     "text": [
      "C:\\Users\\iamph\\Miniconda3\\lib\\site-packages\\atomica\\framework.py:914: FutureWarning: iteritems is deprecated and will be removed in a future version. Use .items instead.\n",
      "  for to_comp, par_names in from_row.iteritems():\n"
     ]
    },
    {
     "name": "stdout",
     "output_type": "stream",
     "text": [
      "Current region: AFR\n",
      "Elapsed time for running \"default\": 3.40s\n",
      "Current region: AMR\n",
      "Elapsed time for running \"default\": 3.46s\n",
      "Current region: EMR\n",
      "Elapsed time for running \"default\": 4.08s\n",
      "Current region: EUR\n",
      "Elapsed time for running \"default\": 3.81s\n",
      "Current region: SEAR\n",
      "Elapsed time for running \"default\": 3.64s\n",
      "Current region: WPR\n",
      "Elapsed time for running \"default\": 4.10s\n"
     ]
    }
   ],
   "source": [
    "# regions = ['AFR']\n",
    "edf = pd.DataFrame()\n",
    "years = [2010, 2015, 2019]\n",
    "F = at.ProjectFramework('frameworks/hbv_v14_gamma_mav.xlsx')\n",
    "for ct in regions:\n",
    "    print(f\"Current region: {ct}\")\n",
    "    D = at.ProjectData.from_spreadsheet(f\"applications/region_{ct.lower()}/{ct}_db_mav.xlsx\", framework=F)\n",
    "    P= at.Project(framework=F, databook=D, sim_dt=0.25, sim_start=1990, sim_end=2099, do_run=False)\n",
    "    cal = P.make_parset()\n",
    "    cal.load_calibration(f\"applications/region_{ct.lower()}/{ct}_calib.xlsx\")\n",
    "    res = P.run_sim(parset=cal)\n",
    "    for par in pars:\n",
    "        data = []\n",
    "        est = []\n",
    "        if par == 'chb_pop':\n",
    "            tmp_yr = years[1:]\n",
    "        else:\n",
    "            tmp_yr = years\n",
    "        for yr in tmp_yr:\n",
    "            tmp = [P.data.tdve[par].ts[x].interpolate(2000 + yr) for x in range(10)]  # data\n",
    "            data = [i[0] for i in tmp]\n",
    "            est = [x.vals[(yr-2000) * 4] for x in res.get_variable(par)]  # estimate\n",
    "\n",
    "            edf.loc[f\"{ct}\", par] = metric(data, est, \"mape\")\n",
    "    \n",
    "edf = edf.apply(pd.to_numeric).round(4)"
   ]
  },
  {
   "cell_type": "code",
   "execution_count": 87,
   "id": "f7874473",
   "metadata": {},
   "outputs": [
    {
     "data": {
      "text/html": [
       "<div>\n",
       "<style scoped>\n",
       "    .dataframe tbody tr th:only-of-type {\n",
       "        vertical-align: middle;\n",
       "    }\n",
       "\n",
       "    .dataframe tbody tr th {\n",
       "        vertical-align: top;\n",
       "    }\n",
       "\n",
       "    .dataframe thead th {\n",
       "        text-align: right;\n",
       "    }\n",
       "</style>\n",
       "<table border=\"1\" class=\"dataframe\">\n",
       "  <thead>\n",
       "    <tr style=\"text-align: right;\">\n",
       "      <th></th>\n",
       "      <th>chb_pop</th>\n",
       "      <th>cl_acu</th>\n",
       "      <th>cl_cir</th>\n",
       "      <th>cl_hcc</th>\n",
       "    </tr>\n",
       "  </thead>\n",
       "  <tbody>\n",
       "    <tr>\n",
       "      <th>AFR</th>\n",
       "      <td>0.2517</td>\n",
       "      <td>0.1349</td>\n",
       "      <td>0.0847</td>\n",
       "      <td>0.1731</td>\n",
       "    </tr>\n",
       "    <tr>\n",
       "      <th>AMR</th>\n",
       "      <td>0.2972</td>\n",
       "      <td>0.2728</td>\n",
       "      <td>0.1721</td>\n",
       "      <td>0.2041</td>\n",
       "    </tr>\n",
       "    <tr>\n",
       "      <th>EMR</th>\n",
       "      <td>0.3038</td>\n",
       "      <td>0.5231</td>\n",
       "      <td>0.2043</td>\n",
       "      <td>0.2167</td>\n",
       "    </tr>\n",
       "    <tr>\n",
       "      <th>EUR</th>\n",
       "      <td>0.1721</td>\n",
       "      <td>0.3919</td>\n",
       "      <td>0.1634</td>\n",
       "      <td>0.0910</td>\n",
       "    </tr>\n",
       "    <tr>\n",
       "      <th>SEAR</th>\n",
       "      <td>0.2581</td>\n",
       "      <td>0.1978</td>\n",
       "      <td>0.1101</td>\n",
       "      <td>0.1960</td>\n",
       "    </tr>\n",
       "    <tr>\n",
       "      <th>WPR</th>\n",
       "      <td>0.3053</td>\n",
       "      <td>0.4285</td>\n",
       "      <td>0.1827</td>\n",
       "      <td>0.1599</td>\n",
       "    </tr>\n",
       "  </tbody>\n",
       "</table>\n",
       "</div>"
      ],
      "text/plain": [
       "      chb_pop  cl_acu  cl_cir  cl_hcc\n",
       "AFR    0.2517  0.1349  0.0847  0.1731\n",
       "AMR    0.2972  0.2728  0.1721  0.2041\n",
       "EMR    0.3038  0.5231  0.2043  0.2167\n",
       "EUR    0.1721  0.3919  0.1634  0.0910\n",
       "SEAR   0.2581  0.1978  0.1101  0.1960\n",
       "WPR    0.3053  0.4285  0.1827  0.1599"
      ]
     },
     "execution_count": 87,
     "metadata": {},
     "output_type": "execute_result"
    }
   ],
   "source": [
    "edf"
   ]
  },
  {
   "cell_type": "code",
   "execution_count": 81,
   "id": "0cf6c86f",
   "metadata": {},
   "outputs": [
    {
     "name": "stderr",
     "output_type": "stream",
     "text": [
      "C:\\Users\\iamph\\Miniconda3\\lib\\site-packages\\atomica\\framework.py:914: FutureWarning: iteritems is deprecated and will be removed in a future version. Use .items instead.\n",
      "  for to_comp, par_names in from_row.iteritems():\n"
     ]
    },
    {
     "name": "stdout",
     "output_type": "stream",
     "text": [
      "Current region: AMR\n",
      "Elapsed time for running \"default\": 3.66s\n"
     ]
    }
   ],
   "source": [
    "regions = ['AMR']\n",
    "edf = pd.DataFrame()\n",
    "years = [2010, 2015, 2019]\n",
    "F = at.ProjectFramework('frameworks/hbv_v14_gamma_mav.xlsx')\n",
    "for ct in regions:\n",
    "    print(f\"Current region: {ct}\")\n",
    "    D = at.ProjectData.from_spreadsheet(f\"applications/region_{ct.lower()}/{ct}_db_mav.xlsx\", framework=F)\n",
    "    P = at.Project(framework=F, databook=D, sim_dt=0.25, sim_start=1990, sim_end=2099, do_run=False)\n",
    "    cal = P.make_parset()\n",
    "    cal.load_calibration(f\"applications/region_{ct.lower()}/{ct}_calib.xlsx\")\n",
    "    res = P.run_sim(parset=cal)\n",
    "    for par in pars:\n",
    "        data = []\n",
    "        est = []\n",
    "        if par == 'chb_pop':\n",
    "            tmp_yr = years[1:]\n",
    "        else:\n",
    "            tmp_yr = years\n",
    "        for yr in tmp_yr:\n",
    "            data = [P.data.tdve[par].ts[x].interpolate(2000 + yr) for x in range(10)]  # data\n",
    "            data = [i[0] for i in data]\n",
    "            est = [x.vals[(yr-2000) * 4] for x in res.get_variable(par)]  # estimate\n",
    "\n",
    "            edf.loc[f\"{ct}\", par] = metric(data, est, \"mape\")\n",
    "    \n",
    "edf = edf.apply(pd.to_numeric).round(4)"
   ]
  },
  {
   "cell_type": "code",
   "execution_count": 82,
   "id": "e0cad7c3",
   "metadata": {},
   "outputs": [
    {
     "data": {
      "text/html": [
       "<div>\n",
       "<style scoped>\n",
       "    .dataframe tbody tr th:only-of-type {\n",
       "        vertical-align: middle;\n",
       "    }\n",
       "\n",
       "    .dataframe tbody tr th {\n",
       "        vertical-align: top;\n",
       "    }\n",
       "\n",
       "    .dataframe thead th {\n",
       "        text-align: right;\n",
       "    }\n",
       "</style>\n",
       "<table border=\"1\" class=\"dataframe\">\n",
       "  <thead>\n",
       "    <tr style=\"text-align: right;\">\n",
       "      <th></th>\n",
       "      <th>chb_pop</th>\n",
       "      <th>cl_acu</th>\n",
       "      <th>cl_cir</th>\n",
       "      <th>cl_hcc</th>\n",
       "    </tr>\n",
       "  </thead>\n",
       "  <tbody>\n",
       "    <tr>\n",
       "      <th>AMR</th>\n",
       "      <td>0.2972</td>\n",
       "      <td>0.2728</td>\n",
       "      <td>0.1721</td>\n",
       "      <td>0.2041</td>\n",
       "    </tr>\n",
       "  </tbody>\n",
       "</table>\n",
       "</div>"
      ],
      "text/plain": [
       "     chb_pop  cl_acu  cl_cir  cl_hcc\n",
       "AMR   0.2972  0.2728  0.1721  0.2041"
      ]
     },
     "execution_count": 82,
     "metadata": {},
     "output_type": "execute_result"
    }
   ],
   "source": [
    "edf"
   ]
  },
  {
   "cell_type": "code",
   "execution_count": 83,
   "id": "e7f0d3eb",
   "metadata": {
    "scrolled": true
   },
   "outputs": [
    {
     "data": {
      "text/plain": [
       "[0.0, 0.0, 8.0, 3.0, 852.0, 510.0, 3508.0, 1546.0, 2149.0, 1301.0]"
      ]
     },
     "execution_count": 83,
     "metadata": {},
     "output_type": "execute_result"
    }
   ],
   "source": [
    "data"
   ]
  },
  {
   "cell_type": "code",
   "execution_count": 84,
   "id": "ffc599f2",
   "metadata": {},
   "outputs": [
    {
     "data": {
      "text/plain": [
       "[0.0,\n",
       " 0.0,\n",
       " 12.218205251117228,\n",
       " 4.0627073109801355,\n",
       " 976.627020355523,\n",
       " 504.05955771164736,\n",
       " 2740.5966395963433,\n",
       " 1184.0580276482715,\n",
       " 1644.046787548729,\n",
       " 1054.8450249518794]"
      ]
     },
     "execution_count": 84,
     "metadata": {},
     "output_type": "execute_result"
    }
   ],
   "source": [
    "est"
   ]
  },
  {
   "cell_type": "markdown",
   "id": "771e9a11",
   "metadata": {},
   "source": [
    "### Sum over all populations"
   ]
  },
  {
   "cell_type": "code",
   "execution_count": null,
   "id": "8b41c09d",
   "metadata": {},
   "outputs": [],
   "source": []
  },
  {
   "cell_type": "code",
   "execution_count": null,
   "id": "7765b27e",
   "metadata": {},
   "outputs": [],
   "source": []
  },
  {
   "cell_type": "markdown",
   "id": "8c19cf74",
   "metadata": {},
   "source": [
    "### Create correct error functions"
   ]
  },
  {
   "cell_type": "code",
   "execution_count": null,
   "id": "fe554f17",
   "metadata": {},
   "outputs": [],
   "source": []
  },
  {
   "cell_type": "code",
   "execution_count": null,
   "id": "4ae7a07b",
   "metadata": {},
   "outputs": [],
   "source": []
  },
  {
   "cell_type": "markdown",
   "id": "b8d967e5",
   "metadata": {},
   "source": [
    "### Colour-code error tables"
   ]
  },
  {
   "cell_type": "code",
   "execution_count": 88,
   "id": "8494bbfa",
   "metadata": {},
   "outputs": [],
   "source": [
    "def select_col_blk(x):\n",
    "    \"\"\"\n",
    "    GOAL: Generalise this for incidences as well\n",
    "\n",
    "    \"\"\"\n",
    "    c1 = \"background-color: grey\"\n",
    "    c2 = \"\"\n",
    "    mask_cols = [i for i in x.columns if \"2040\" in i]\n",
    "    mae_col = [i for i in mask_cols if \"mae\" in i][0]\n",
    "    mask_cols.remove(mae_col)\n",
    "    mape_col = mask_cols[0]\n",
    "\n",
    "    # compare columns\n",
    "    mask = (x[mape_col] > 1) & (x[mae_col] < 10)\n",
    "    # mask = x['par_2040_death'] > 0.6\n",
    "    # DataFrame with same index and columns names as original filled empty strings\n",
    "    df1 = pd.DataFrame(c2, index=x.index, columns=x.columns)\n",
    "    # modify values of df1 column by boolean mask\n",
    "    df1.loc[mask, mape_col] = c1\n",
    "    return df1\n",
    "\n",
    "\n",
    "def select_col_red(x):\n",
    "    \"\"\"\n",
    "    GOAL: Generalise this for incidences as well\n",
    "\n",
    "    \"\"\"\n",
    "    c1 = \"background-color: lightcoral\"\n",
    "    c2 = \"\"\n",
    "    mask_cols = [i for i in x.columns if \"2040\" in i]\n",
    "    mae_col = [i for i in mask_cols if \"mae\" in i][0]\n",
    "    mask_cols.remove(mae_col)\n",
    "    mape_col = mask_cols[0]\n",
    "\n",
    "    # compare columns\n",
    "    mask = (x[mape_col] > 0.6) & (x[mape_col] < 1) & (x[mae_col] < 10)\n",
    "    # mask = x['par_2040_death'] > 0.6\n",
    "    # DataFrame with same index and columns names as original filled empty strings\n",
    "    df1 = pd.DataFrame(c2, index=x.index, columns=x.columns)\n",
    "    # modify values of df1 column by boolean mask\n",
    "    df1.loc[mask, mape_col] = c1\n",
    "    return df1"
   ]
  },
  {
   "cell_type": "code",
   "execution_count": 89,
   "id": "93c16708",
   "metadata": {},
   "outputs": [],
   "source": [
    "def highlight_results(s, lb, ub, props=\"\"):\n",
    "    return np.where((lb <= s) & (s < ub), props, \"\")"
   ]
  },
  {
   "cell_type": "code",
   "execution_count": 97,
   "id": "280e5f80",
   "metadata": {},
   "outputs": [],
   "source": [
    "def determine_cal_quality(df):\n",
    "    \"\"\"\n",
    "    Needs highlight_results, helps determine how good the calibrations are after generate_output_df\n",
    "    \"\"\"\n",
    "\n",
    "    df = df.style.apply(highlight_results, lb=1, ub=1000, props=\"color:white;background-color:black\",  axis=0).apply(highlight_results, lb=0.6, ub=1, props=\"color:white;background-color:red\",axis=0).apply(highlight_results, lb=0.4, ub=0.6, props=\"color:black;background-color:gold\",  axis=0).apply(highlight_results, lb=0, ub=0.4, props=\"color:black;background-color:mediumseagreen\",  axis=0)\n",
    "    return df"
   ]
  },
  {
   "cell_type": "code",
   "execution_count": 98,
   "id": "bfdd7825",
   "metadata": {},
   "outputs": [
    {
     "data": {
      "text/html": [
       "<style type=\"text/css\">\n",
       "#T_7ed09_row0_col0, #T_7ed09_row0_col1, #T_7ed09_row0_col2, #T_7ed09_row0_col3, #T_7ed09_row1_col0, #T_7ed09_row1_col1, #T_7ed09_row1_col2, #T_7ed09_row1_col3, #T_7ed09_row2_col0, #T_7ed09_row2_col2, #T_7ed09_row2_col3, #T_7ed09_row3_col0, #T_7ed09_row3_col1, #T_7ed09_row3_col2, #T_7ed09_row3_col3, #T_7ed09_row4_col0, #T_7ed09_row4_col1, #T_7ed09_row4_col2, #T_7ed09_row4_col3, #T_7ed09_row5_col0, #T_7ed09_row5_col2, #T_7ed09_row5_col3 {\n",
       "  color: black;\n",
       "  background-color: mediumseagreen;\n",
       "}\n",
       "#T_7ed09_row2_col1, #T_7ed09_row5_col1 {\n",
       "  color: black;\n",
       "  background-color: gold;\n",
       "}\n",
       "</style>\n",
       "<table id=\"T_7ed09\">\n",
       "  <thead>\n",
       "    <tr>\n",
       "      <th class=\"blank level0\" >&nbsp;</th>\n",
       "      <th id=\"T_7ed09_level0_col0\" class=\"col_heading level0 col0\" >chb_pop</th>\n",
       "      <th id=\"T_7ed09_level0_col1\" class=\"col_heading level0 col1\" >cl_acu</th>\n",
       "      <th id=\"T_7ed09_level0_col2\" class=\"col_heading level0 col2\" >cl_cir</th>\n",
       "      <th id=\"T_7ed09_level0_col3\" class=\"col_heading level0 col3\" >cl_hcc</th>\n",
       "    </tr>\n",
       "  </thead>\n",
       "  <tbody>\n",
       "    <tr>\n",
       "      <th id=\"T_7ed09_level0_row0\" class=\"row_heading level0 row0\" >AFR</th>\n",
       "      <td id=\"T_7ed09_row0_col0\" class=\"data row0 col0\" >0.251700</td>\n",
       "      <td id=\"T_7ed09_row0_col1\" class=\"data row0 col1\" >0.134900</td>\n",
       "      <td id=\"T_7ed09_row0_col2\" class=\"data row0 col2\" >0.084700</td>\n",
       "      <td id=\"T_7ed09_row0_col3\" class=\"data row0 col3\" >0.173100</td>\n",
       "    </tr>\n",
       "    <tr>\n",
       "      <th id=\"T_7ed09_level0_row1\" class=\"row_heading level0 row1\" >AMR</th>\n",
       "      <td id=\"T_7ed09_row1_col0\" class=\"data row1 col0\" >0.297200</td>\n",
       "      <td id=\"T_7ed09_row1_col1\" class=\"data row1 col1\" >0.272800</td>\n",
       "      <td id=\"T_7ed09_row1_col2\" class=\"data row1 col2\" >0.172100</td>\n",
       "      <td id=\"T_7ed09_row1_col3\" class=\"data row1 col3\" >0.204100</td>\n",
       "    </tr>\n",
       "    <tr>\n",
       "      <th id=\"T_7ed09_level0_row2\" class=\"row_heading level0 row2\" >EMR</th>\n",
       "      <td id=\"T_7ed09_row2_col0\" class=\"data row2 col0\" >0.303800</td>\n",
       "      <td id=\"T_7ed09_row2_col1\" class=\"data row2 col1\" >0.523100</td>\n",
       "      <td id=\"T_7ed09_row2_col2\" class=\"data row2 col2\" >0.204300</td>\n",
       "      <td id=\"T_7ed09_row2_col3\" class=\"data row2 col3\" >0.216700</td>\n",
       "    </tr>\n",
       "    <tr>\n",
       "      <th id=\"T_7ed09_level0_row3\" class=\"row_heading level0 row3\" >EUR</th>\n",
       "      <td id=\"T_7ed09_row3_col0\" class=\"data row3 col0\" >0.172100</td>\n",
       "      <td id=\"T_7ed09_row3_col1\" class=\"data row3 col1\" >0.391900</td>\n",
       "      <td id=\"T_7ed09_row3_col2\" class=\"data row3 col2\" >0.163400</td>\n",
       "      <td id=\"T_7ed09_row3_col3\" class=\"data row3 col3\" >0.091000</td>\n",
       "    </tr>\n",
       "    <tr>\n",
       "      <th id=\"T_7ed09_level0_row4\" class=\"row_heading level0 row4\" >SEAR</th>\n",
       "      <td id=\"T_7ed09_row4_col0\" class=\"data row4 col0\" >0.258100</td>\n",
       "      <td id=\"T_7ed09_row4_col1\" class=\"data row4 col1\" >0.197800</td>\n",
       "      <td id=\"T_7ed09_row4_col2\" class=\"data row4 col2\" >0.110100</td>\n",
       "      <td id=\"T_7ed09_row4_col3\" class=\"data row4 col3\" >0.196000</td>\n",
       "    </tr>\n",
       "    <tr>\n",
       "      <th id=\"T_7ed09_level0_row5\" class=\"row_heading level0 row5\" >WPR</th>\n",
       "      <td id=\"T_7ed09_row5_col0\" class=\"data row5 col0\" >0.305300</td>\n",
       "      <td id=\"T_7ed09_row5_col1\" class=\"data row5 col1\" >0.428500</td>\n",
       "      <td id=\"T_7ed09_row5_col2\" class=\"data row5 col2\" >0.182700</td>\n",
       "      <td id=\"T_7ed09_row5_col3\" class=\"data row5 col3\" >0.159900</td>\n",
       "    </tr>\n",
       "  </tbody>\n",
       "</table>\n"
      ],
      "text/plain": [
       "<pandas.io.formats.style.Styler at 0x1f8dcd5bbb0>"
      ]
     },
     "execution_count": 98,
     "metadata": {},
     "output_type": "execute_result"
    }
   ],
   "source": [
    "determine_cal_quality(edf)"
   ]
  },
  {
   "cell_type": "code",
   "execution_count": null,
   "id": "67c8f359",
   "metadata": {},
   "outputs": [],
   "source": []
  }
 ],
 "metadata": {
  "kernelspec": {
   "display_name": "Python 3 (ipykernel)",
   "language": "python",
   "name": "python3"
  },
  "language_info": {
   "codemirror_mode": {
    "name": "ipython",
    "version": 3
   },
   "file_extension": ".py",
   "mimetype": "text/x-python",
   "name": "python",
   "nbconvert_exporter": "python",
   "pygments_lexer": "ipython3",
   "version": "3.7.11"
  },
  "toc": {
   "base_numbering": 1,
   "nav_menu": {},
   "number_sections": true,
   "sideBar": true,
   "skip_h1_title": false,
   "title_cell": "Table of Contents",
   "title_sidebar": "Contents",
   "toc_cell": false,
   "toc_position": {
    "height": "calc(100% - 180px)",
    "left": "10px",
    "top": "150px",
    "width": "217.433px"
   },
   "toc_section_display": true,
   "toc_window_display": true
  }
 },
 "nbformat": 4,
 "nbformat_minor": 5
}
